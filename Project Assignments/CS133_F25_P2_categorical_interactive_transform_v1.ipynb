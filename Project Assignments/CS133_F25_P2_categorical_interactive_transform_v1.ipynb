{
  "cells": [
    {
      "cell_type": "markdown",
      "metadata": {
        "id": "G1R_oERWiKtv"
      },
      "source": [
        "# Project data exploration II -\n",
        "## plotting categorical plot and incorporating other data\n",
        "\n",
        "---\n",
        "\n",
        "\n",
        "We will continue to work with the dataset that your group is consider for the term project. In this notebook we will create some plot using the Seaborn module and the different categorical plots we practiced in class. Additionally, we will explore the idea of working with other datasets in addition to the one you originally selected to strengthen your argument."
      ]
    },
    {
      "cell_type": "markdown",
      "metadata": {
        "id": "Ml3CVbR8iSwb"
      },
      "source": [
        "Group name:  Group 8\n",
        "\n",
        "Created by NAMES (SJSU IDs):\n",
        "\n",
        "Eden Kidane(017234854), Salma Ibrahim (013934479), Jacob Timoteo (017676672)\n",
        "\n",
        "\n",
        "Last updated: 10/12/25  "
      ]
    },
    {
      "cell_type": "code",
      "execution_count": 1,
      "metadata": {
        "colab": {
          "base_uri": "https://localhost:8080/"
        },
        "id": "dUyOpDgtgLTZ",
        "outputId": "b13e77bb-74a1-41c5-edc0-6966a7376cf2"
      },
      "outputs": [
        {
          "name": "stdout",
          "output_type": "stream",
          "text": [
            "Reading file in chunks: C:\\Users\\jacob\\.cache\\kagglehub\\datasets\\sobhanmoosavi\\us-accidents\\versions\\13\\US_Accidents_March23.csv\n",
            "Total rows: 7,728,394\n",
            "Sampling 500,000 rows...\n",
            "Saved 499,809 rows to us_accidents_sample_500k.csv\n"
          ]
        }
      ],
      "source": [
        "import kagglehub\n",
        "import pandas as pd\n",
        "import random\n",
        "import glob\n",
        "\n",
        "# Download the dataset\n",
        "path = kagglehub.dataset_download(\"sobhanmoosavi/us-accidents\")\n",
        "csv_file = glob.glob(f'{path}/*.csv')[0]\n",
        "\n",
        "print(f\"Reading file in chunks: {csv_file}\")\n",
        "\n",
        "# First, count total rows\n",
        "total_rows = sum(1 for _ in open(csv_file)) - 1  # subtract header\n",
        "\n",
        "# Calculate skip probability to get ~500k rows\n",
        "sample_size = 500000\n",
        "skip_prob = 1 - (sample_size / total_rows)\n",
        "\n",
        "print(f\"Total rows: {total_rows:,}\")\n",
        "print(f\"Sampling {sample_size:,} rows...\")\n",
        "\n",
        "# Read with random sampling\n",
        "df = pd.read_csv(\n",
        "    csv_file,\n",
        "    skiprows=lambda i: i > 0 and random.random() < skip_prob\n",
        ")\n",
        "\n",
        "# If we got more/less than exactly 500k, adjust\n",
        "if len(df) > sample_size:\n",
        "    df = df.sample(n=sample_size, random_state=42)\n",
        "\n",
        "df.to_csv('us_accidents_sample_500k.csv', index=False)\n",
        "print(f\"Saved {len(df):,} rows to us_accidents_sample_500k.csv\")"
      ]
    },
    {
      "cell_type": "code",
      "execution_count": 2,
      "metadata": {
        "colab": {
          "base_uri": "https://localhost:8080/",
          "height": 790
        },
        "id": "jNSNpMPxjhue",
        "outputId": "4cc504f2-40dd-4b65-dc31-92921e7086cf"
      },
      "outputs": [
        {
          "data": {
            "text/html": [
              "<div>\n",
              "<style scoped>\n",
              "    .dataframe tbody tr th:only-of-type {\n",
              "        vertical-align: middle;\n",
              "    }\n",
              "\n",
              "    .dataframe tbody tr th {\n",
              "        vertical-align: top;\n",
              "    }\n",
              "\n",
              "    .dataframe thead th {\n",
              "        text-align: right;\n",
              "    }\n",
              "</style>\n",
              "<table border=\"1\" class=\"dataframe\">\n",
              "  <thead>\n",
              "    <tr style=\"text-align: right;\">\n",
              "      <th></th>\n",
              "      <th>ID</th>\n",
              "      <th>Source</th>\n",
              "      <th>Severity</th>\n",
              "      <th>Start_Time</th>\n",
              "      <th>End_Time</th>\n",
              "      <th>Start_Lat</th>\n",
              "      <th>Start_Lng</th>\n",
              "      <th>End_Lat</th>\n",
              "      <th>End_Lng</th>\n",
              "      <th>Distance(mi)</th>\n",
              "      <th>...</th>\n",
              "      <th>Roundabout</th>\n",
              "      <th>Station</th>\n",
              "      <th>Stop</th>\n",
              "      <th>Traffic_Calming</th>\n",
              "      <th>Traffic_Signal</th>\n",
              "      <th>Turning_Loop</th>\n",
              "      <th>Sunrise_Sunset</th>\n",
              "      <th>Civil_Twilight</th>\n",
              "      <th>Nautical_Twilight</th>\n",
              "      <th>Astronomical_Twilight</th>\n",
              "    </tr>\n",
              "  </thead>\n",
              "  <tbody>\n",
              "    <tr>\n",
              "      <th>0</th>\n",
              "      <td>A-1</td>\n",
              "      <td>Source2</td>\n",
              "      <td>3</td>\n",
              "      <td>2016-02-08 05:46:00</td>\n",
              "      <td>2016-02-08 11:00:00</td>\n",
              "      <td>39.865147</td>\n",
              "      <td>-84.058723</td>\n",
              "      <td>NaN</td>\n",
              "      <td>NaN</td>\n",
              "      <td>0.010</td>\n",
              "      <td>...</td>\n",
              "      <td>False</td>\n",
              "      <td>False</td>\n",
              "      <td>False</td>\n",
              "      <td>False</td>\n",
              "      <td>False</td>\n",
              "      <td>False</td>\n",
              "      <td>Night</td>\n",
              "      <td>Night</td>\n",
              "      <td>Night</td>\n",
              "      <td>Night</td>\n",
              "    </tr>\n",
              "    <tr>\n",
              "      <th>1</th>\n",
              "      <td>A-12</td>\n",
              "      <td>Source2</td>\n",
              "      <td>3</td>\n",
              "      <td>2016-02-08 08:21:27</td>\n",
              "      <td>2016-02-08 08:51:27</td>\n",
              "      <td>39.932709</td>\n",
              "      <td>-82.830910</td>\n",
              "      <td>NaN</td>\n",
              "      <td>NaN</td>\n",
              "      <td>0.010</td>\n",
              "      <td>...</td>\n",
              "      <td>False</td>\n",
              "      <td>False</td>\n",
              "      <td>False</td>\n",
              "      <td>False</td>\n",
              "      <td>False</td>\n",
              "      <td>False</td>\n",
              "      <td>Day</td>\n",
              "      <td>Day</td>\n",
              "      <td>Day</td>\n",
              "      <td>Day</td>\n",
              "    </tr>\n",
              "    <tr>\n",
              "      <th>2</th>\n",
              "      <td>A-26</td>\n",
              "      <td>Source2</td>\n",
              "      <td>2</td>\n",
              "      <td>2016-02-08 12:41:08</td>\n",
              "      <td>2016-02-08 13:11:08</td>\n",
              "      <td>40.158024</td>\n",
              "      <td>-82.641762</td>\n",
              "      <td>NaN</td>\n",
              "      <td>NaN</td>\n",
              "      <td>1.320</td>\n",
              "      <td>...</td>\n",
              "      <td>False</td>\n",
              "      <td>False</td>\n",
              "      <td>False</td>\n",
              "      <td>False</td>\n",
              "      <td>False</td>\n",
              "      <td>False</td>\n",
              "      <td>Day</td>\n",
              "      <td>Day</td>\n",
              "      <td>Day</td>\n",
              "      <td>Day</td>\n",
              "    </tr>\n",
              "    <tr>\n",
              "      <th>3</th>\n",
              "      <td>A-38</td>\n",
              "      <td>Source2</td>\n",
              "      <td>2</td>\n",
              "      <td>2016-02-09 05:04:34</td>\n",
              "      <td>2016-02-09 05:34:34</td>\n",
              "      <td>39.843521</td>\n",
              "      <td>-82.781570</td>\n",
              "      <td>NaN</td>\n",
              "      <td>NaN</td>\n",
              "      <td>0.010</td>\n",
              "      <td>...</td>\n",
              "      <td>False</td>\n",
              "      <td>False</td>\n",
              "      <td>False</td>\n",
              "      <td>False</td>\n",
              "      <td>True</td>\n",
              "      <td>False</td>\n",
              "      <td>Night</td>\n",
              "      <td>Night</td>\n",
              "      <td>Night</td>\n",
              "      <td>Night</td>\n",
              "    </tr>\n",
              "    <tr>\n",
              "      <th>4</th>\n",
              "      <td>A-63</td>\n",
              "      <td>Source2</td>\n",
              "      <td>2</td>\n",
              "      <td>2016-02-09 08:06:39</td>\n",
              "      <td>2016-02-09 08:36:39</td>\n",
              "      <td>39.492485</td>\n",
              "      <td>-84.131798</td>\n",
              "      <td>NaN</td>\n",
              "      <td>NaN</td>\n",
              "      <td>0.010</td>\n",
              "      <td>...</td>\n",
              "      <td>False</td>\n",
              "      <td>False</td>\n",
              "      <td>False</td>\n",
              "      <td>False</td>\n",
              "      <td>False</td>\n",
              "      <td>False</td>\n",
              "      <td>Day</td>\n",
              "      <td>Day</td>\n",
              "      <td>Day</td>\n",
              "      <td>Day</td>\n",
              "    </tr>\n",
              "    <tr>\n",
              "      <th>...</th>\n",
              "      <td>...</td>\n",
              "      <td>...</td>\n",
              "      <td>...</td>\n",
              "      <td>...</td>\n",
              "      <td>...</td>\n",
              "      <td>...</td>\n",
              "      <td>...</td>\n",
              "      <td>...</td>\n",
              "      <td>...</td>\n",
              "      <td>...</td>\n",
              "      <td>...</td>\n",
              "      <td>...</td>\n",
              "      <td>...</td>\n",
              "      <td>...</td>\n",
              "      <td>...</td>\n",
              "      <td>...</td>\n",
              "      <td>...</td>\n",
              "      <td>...</td>\n",
              "      <td>...</td>\n",
              "      <td>...</td>\n",
              "      <td>...</td>\n",
              "    </tr>\n",
              "    <tr>\n",
              "      <th>499804</th>\n",
              "      <td>A-7777680</td>\n",
              "      <td>Source1</td>\n",
              "      <td>2</td>\n",
              "      <td>2019-08-23 17:21:36</td>\n",
              "      <td>2019-08-23 21:21:36</td>\n",
              "      <td>43.497041</td>\n",
              "      <td>-124.218706</td>\n",
              "      <td>43.496675</td>\n",
              "      <td>-124.218734</td>\n",
              "      <td>0.025</td>\n",
              "      <td>...</td>\n",
              "      <td>False</td>\n",
              "      <td>False</td>\n",
              "      <td>False</td>\n",
              "      <td>False</td>\n",
              "      <td>False</td>\n",
              "      <td>False</td>\n",
              "      <td>Day</td>\n",
              "      <td>Day</td>\n",
              "      <td>Day</td>\n",
              "      <td>Day</td>\n",
              "    </tr>\n",
              "    <tr>\n",
              "      <th>499805</th>\n",
              "      <td>A-7777725</td>\n",
              "      <td>Source1</td>\n",
              "      <td>3</td>\n",
              "      <td>2019-08-23 04:04:48</td>\n",
              "      <td>2019-08-23 04:33:53</td>\n",
              "      <td>34.075790</td>\n",
              "      <td>-118.276680</td>\n",
              "      <td>34.074310</td>\n",
              "      <td>-118.272250</td>\n",
              "      <td>0.273</td>\n",
              "      <td>...</td>\n",
              "      <td>False</td>\n",
              "      <td>False</td>\n",
              "      <td>False</td>\n",
              "      <td>False</td>\n",
              "      <td>False</td>\n",
              "      <td>False</td>\n",
              "      <td>Night</td>\n",
              "      <td>Night</td>\n",
              "      <td>Night</td>\n",
              "      <td>Night</td>\n",
              "    </tr>\n",
              "    <tr>\n",
              "      <th>499806</th>\n",
              "      <td>A-7777731</td>\n",
              "      <td>Source1</td>\n",
              "      <td>2</td>\n",
              "      <td>2019-08-23 12:12:37</td>\n",
              "      <td>2019-08-23 12:41:33</td>\n",
              "      <td>34.113270</td>\n",
              "      <td>-117.823940</td>\n",
              "      <td>34.113920</td>\n",
              "      <td>-117.823950</td>\n",
              "      <td>0.045</td>\n",
              "      <td>...</td>\n",
              "      <td>False</td>\n",
              "      <td>False</td>\n",
              "      <td>False</td>\n",
              "      <td>False</td>\n",
              "      <td>False</td>\n",
              "      <td>False</td>\n",
              "      <td>Day</td>\n",
              "      <td>Day</td>\n",
              "      <td>Day</td>\n",
              "      <td>Day</td>\n",
              "    </tr>\n",
              "    <tr>\n",
              "      <th>499807</th>\n",
              "      <td>A-7777757</td>\n",
              "      <td>Source1</td>\n",
              "      <td>2</td>\n",
              "      <td>2019-08-23 18:03:25</td>\n",
              "      <td>2019-08-23 18:32:01</td>\n",
              "      <td>34.002480</td>\n",
              "      <td>-117.379360</td>\n",
              "      <td>33.998880</td>\n",
              "      <td>-117.370940</td>\n",
              "      <td>0.543</td>\n",
              "      <td>...</td>\n",
              "      <td>False</td>\n",
              "      <td>False</td>\n",
              "      <td>False</td>\n",
              "      <td>False</td>\n",
              "      <td>False</td>\n",
              "      <td>False</td>\n",
              "      <td>Day</td>\n",
              "      <td>Day</td>\n",
              "      <td>Day</td>\n",
              "      <td>Day</td>\n",
              "    </tr>\n",
              "    <tr>\n",
              "      <th>499808</th>\n",
              "      <td>A-7777761</td>\n",
              "      <td>Source1</td>\n",
              "      <td>2</td>\n",
              "      <td>2019-08-23 18:52:06</td>\n",
              "      <td>2019-08-23 19:21:31</td>\n",
              "      <td>34.133930</td>\n",
              "      <td>-117.230920</td>\n",
              "      <td>34.137360</td>\n",
              "      <td>-117.239340</td>\n",
              "      <td>0.537</td>\n",
              "      <td>...</td>\n",
              "      <td>False</td>\n",
              "      <td>False</td>\n",
              "      <td>False</td>\n",
              "      <td>False</td>\n",
              "      <td>False</td>\n",
              "      <td>False</td>\n",
              "      <td>Day</td>\n",
              "      <td>Day</td>\n",
              "      <td>Day</td>\n",
              "      <td>Day</td>\n",
              "    </tr>\n",
              "  </tbody>\n",
              "</table>\n",
              "<p>499809 rows × 46 columns</p>\n",
              "</div>"
            ],
            "text/plain": [
              "               ID   Source  Severity           Start_Time  \\\n",
              "0             A-1  Source2         3  2016-02-08 05:46:00   \n",
              "1            A-12  Source2         3  2016-02-08 08:21:27   \n",
              "2            A-26  Source2         2  2016-02-08 12:41:08   \n",
              "3            A-38  Source2         2  2016-02-09 05:04:34   \n",
              "4            A-63  Source2         2  2016-02-09 08:06:39   \n",
              "...           ...      ...       ...                  ...   \n",
              "499804  A-7777680  Source1         2  2019-08-23 17:21:36   \n",
              "499805  A-7777725  Source1         3  2019-08-23 04:04:48   \n",
              "499806  A-7777731  Source1         2  2019-08-23 12:12:37   \n",
              "499807  A-7777757  Source1         2  2019-08-23 18:03:25   \n",
              "499808  A-7777761  Source1         2  2019-08-23 18:52:06   \n",
              "\n",
              "                   End_Time  Start_Lat   Start_Lng    End_Lat     End_Lng  \\\n",
              "0       2016-02-08 11:00:00  39.865147  -84.058723        NaN         NaN   \n",
              "1       2016-02-08 08:51:27  39.932709  -82.830910        NaN         NaN   \n",
              "2       2016-02-08 13:11:08  40.158024  -82.641762        NaN         NaN   \n",
              "3       2016-02-09 05:34:34  39.843521  -82.781570        NaN         NaN   \n",
              "4       2016-02-09 08:36:39  39.492485  -84.131798        NaN         NaN   \n",
              "...                     ...        ...         ...        ...         ...   \n",
              "499804  2019-08-23 21:21:36  43.497041 -124.218706  43.496675 -124.218734   \n",
              "499805  2019-08-23 04:33:53  34.075790 -118.276680  34.074310 -118.272250   \n",
              "499806  2019-08-23 12:41:33  34.113270 -117.823940  34.113920 -117.823950   \n",
              "499807  2019-08-23 18:32:01  34.002480 -117.379360  33.998880 -117.370940   \n",
              "499808  2019-08-23 19:21:31  34.133930 -117.230920  34.137360 -117.239340   \n",
              "\n",
              "        Distance(mi)  ... Roundabout Station   Stop Traffic_Calming  \\\n",
              "0              0.010  ...      False   False  False           False   \n",
              "1              0.010  ...      False   False  False           False   \n",
              "2              1.320  ...      False   False  False           False   \n",
              "3              0.010  ...      False   False  False           False   \n",
              "4              0.010  ...      False   False  False           False   \n",
              "...              ...  ...        ...     ...    ...             ...   \n",
              "499804         0.025  ...      False   False  False           False   \n",
              "499805         0.273  ...      False   False  False           False   \n",
              "499806         0.045  ...      False   False  False           False   \n",
              "499807         0.543  ...      False   False  False           False   \n",
              "499808         0.537  ...      False   False  False           False   \n",
              "\n",
              "       Traffic_Signal Turning_Loop Sunrise_Sunset Civil_Twilight  \\\n",
              "0               False        False          Night          Night   \n",
              "1               False        False            Day            Day   \n",
              "2               False        False            Day            Day   \n",
              "3                True        False          Night          Night   \n",
              "4               False        False            Day            Day   \n",
              "...               ...          ...            ...            ...   \n",
              "499804          False        False            Day            Day   \n",
              "499805          False        False          Night          Night   \n",
              "499806          False        False            Day            Day   \n",
              "499807          False        False            Day            Day   \n",
              "499808          False        False            Day            Day   \n",
              "\n",
              "       Nautical_Twilight Astronomical_Twilight  \n",
              "0                  Night                 Night  \n",
              "1                    Day                   Day  \n",
              "2                    Day                   Day  \n",
              "3                  Night                 Night  \n",
              "4                    Day                   Day  \n",
              "...                  ...                   ...  \n",
              "499804               Day                   Day  \n",
              "499805             Night                 Night  \n",
              "499806               Day                   Day  \n",
              "499807               Day                   Day  \n",
              "499808               Day                   Day  \n",
              "\n",
              "[499809 rows x 46 columns]"
            ]
          },
          "execution_count": 2,
          "metadata": {},
          "output_type": "execute_result"
        }
      ],
      "source": [
        "\n",
        "sample= pd.read_csv('us_accidents_sample_500k.csv')\n",
        "sample.head(10)\n",
        "sample\n"
      ]
    },
    {
      "cell_type": "markdown",
      "metadata": {
        "id": "zmLRl47LAC6C"
      },
      "source": [
        "### Q1: How clean is your data?  \n",
        "Do you have formatting concerns, null values, inconsistent data, etc... If so, explain what cleaning or reformating you have to do and how you plan to approach this cleaning steps.\n",
        "\n",
        "\n",
        "---\n",
        "Our dataset is massive so we are getting a random sample of it first so we can work with it. As everything crashes before we can look at it, we are first getting skipping the header then counting how many rows there are in the original csv then it reads with random sampling to get about 500,000 rows so that we get a csv that doesn't crash. We also plan on dropping some columns that are not needed that have a lot of missing data. For some missing data using mean or median to fill it in.\n",
        "For some others fill in with Unknown or mode. And dropping rows if important columns features are missing from the row.\n",
        "If we end up using any of the time featurs we may convert them to datetime types instead of leaving them as object types. And finally for weather conditions there seem to be a lot of text duplicates (eg. 'windy','Windy','rainy/windy') and we will unify the categories and may add a column if needed due to the volume of values the feature has.\n",
        "\n",
        "\n"
      ]
    },
    {
      "cell_type": "code",
      "execution_count": 3,
      "metadata": {
        "colab": {
          "base_uri": "https://localhost:8080/",
          "height": 1000
        },
        "id": "EsW4_ltZoZ1P",
        "outputId": "a902c0f5-c0bf-44ff-8b1c-2226683b18cb"
      },
      "outputs": [
        {
          "name": "stdout",
          "output_type": "stream",
          "text": [
            "<class 'pandas.core.frame.DataFrame'>\n",
            "RangeIndex: 499809 entries, 0 to 499808\n",
            "Data columns (total 46 columns):\n",
            " #   Column                 Non-Null Count   Dtype  \n",
            "---  ------                 --------------   -----  \n",
            " 0   ID                     499809 non-null  object \n",
            " 1   Source                 499809 non-null  object \n",
            " 2   Severity               499809 non-null  int64  \n",
            " 3   Start_Time             499809 non-null  object \n",
            " 4   End_Time               499809 non-null  object \n",
            " 5   Start_Lat              499809 non-null  float64\n",
            " 6   Start_Lng              499809 non-null  float64\n",
            " 7   End_Lat                279706 non-null  float64\n",
            " 8   End_Lng                279706 non-null  float64\n",
            " 9   Distance(mi)           499809 non-null  float64\n",
            " 10  Description            499809 non-null  object \n",
            " 11  Street                 499090 non-null  object \n",
            " 12  City                   499790 non-null  object \n",
            " 13  County                 499809 non-null  object \n",
            " 14  State                  499809 non-null  object \n",
            " 15  Zipcode                499685 non-null  object \n",
            " 16  Country                499809 non-null  object \n",
            " 17  Timezone               499320 non-null  object \n",
            " 18  Airport_Code           498351 non-null  object \n",
            " 19  Weather_Timestamp      491974 non-null  object \n",
            " 20  Temperature(F)         489151 non-null  float64\n",
            " 21  Wind_Chill(F)          370584 non-null  float64\n",
            " 22  Humidity(%)            488442 non-null  float64\n",
            " 23  Pressure(in)           490640 non-null  float64\n",
            " 24  Visibility(mi)         488319 non-null  float64\n",
            " 25  Wind_Direction         488473 non-null  object \n",
            " 26  Wind_Speed(mph)        462938 non-null  float64\n",
            " 27  Precipitation(in)      357401 non-null  float64\n",
            " 28  Weather_Condition      488538 non-null  object \n",
            " 29  Amenity                499809 non-null  bool   \n",
            " 30  Bump                   499809 non-null  bool   \n",
            " 31  Crossing               499809 non-null  bool   \n",
            " 32  Give_Way               499809 non-null  bool   \n",
            " 33  Junction               499809 non-null  bool   \n",
            " 34  No_Exit                499809 non-null  bool   \n",
            " 35  Railway                499809 non-null  bool   \n",
            " 36  Roundabout             499809 non-null  bool   \n",
            " 37  Station                499809 non-null  bool   \n",
            " 38  Stop                   499809 non-null  bool   \n",
            " 39  Traffic_Calming        499809 non-null  bool   \n",
            " 40  Traffic_Signal         499809 non-null  bool   \n",
            " 41  Turning_Loop           499809 non-null  bool   \n",
            " 42  Sunrise_Sunset         498300 non-null  object \n",
            " 43  Civil_Twilight         498300 non-null  object \n",
            " 44  Nautical_Twilight      498300 non-null  object \n",
            " 45  Astronomical_Twilight  498300 non-null  object \n",
            "dtypes: bool(13), float64(12), int64(1), object(20)\n",
            "memory usage: 132.0+ MB\n"
          ]
        },
        {
          "data": {
            "text/plain": [
              "ID                            0\n",
              "Source                        0\n",
              "Severity                      0\n",
              "Start_Time                    0\n",
              "End_Time                      0\n",
              "Start_Lat                     0\n",
              "Start_Lng                     0\n",
              "End_Lat                  220103\n",
              "End_Lng                  220103\n",
              "Distance(mi)                  0\n",
              "Description                   0\n",
              "Street                      719\n",
              "City                         19\n",
              "County                        0\n",
              "State                         0\n",
              "Zipcode                     124\n",
              "Country                       0\n",
              "Timezone                    489\n",
              "Airport_Code               1458\n",
              "Weather_Timestamp          7835\n",
              "Temperature(F)            10658\n",
              "Wind_Chill(F)            129225\n",
              "Humidity(%)               11367\n",
              "Pressure(in)               9169\n",
              "Visibility(mi)            11490\n",
              "Wind_Direction            11336\n",
              "Wind_Speed(mph)           36871\n",
              "Precipitation(in)        142408\n",
              "Weather_Condition         11271\n",
              "Amenity                       0\n",
              "Bump                          0\n",
              "Crossing                      0\n",
              "Give_Way                      0\n",
              "Junction                      0\n",
              "No_Exit                       0\n",
              "Railway                       0\n",
              "Roundabout                    0\n",
              "Station                       0\n",
              "Stop                          0\n",
              "Traffic_Calming               0\n",
              "Traffic_Signal                0\n",
              "Turning_Loop                  0\n",
              "Sunrise_Sunset             1509\n",
              "Civil_Twilight             1509\n",
              "Nautical_Twilight          1509\n",
              "Astronomical_Twilight      1509\n",
              "dtype: int64"
            ]
          },
          "execution_count": 3,
          "metadata": {},
          "output_type": "execute_result"
        }
      ],
      "source": [
        "#non null count are not the same\n",
        "sample.info()\n",
        "sample.isnull().sum()\n"
      ]
    },
    {
      "cell_type": "markdown",
      "metadata": {
        "id": "o67baSkq4odS"
      },
      "source": [
        "### Q2: Create a categorical plot\n",
        "Come up with a unique question that can be answer using a categorical plot from the sns module\n",
        "\n",
        "How does accident severity vary by weather conditions?"
      ]
    },
    {
      "cell_type": "code",
      "execution_count": 4,
      "metadata": {
        "colab": {
          "base_uri": "https://localhost:8080/",
          "height": 356
        },
        "id": "xQrjGTZb4rZE",
        "outputId": "7cc56b96-c06e-4687-f415-0b02d7f2323e"
      },
      "outputs": [
        {
          "data": {
            "image/png": "[encoded data removed]",
            "text/plain": [
              "<Figure size 1200x600 with 1 Axes>"
            ]
          },
          "metadata": {},
          "output_type": "display_data"
        }
      ],
      "source": [
        "# Your code here . . .\n",
        "import seaborn as sns\n",
        "import matplotlib.pyplot as plt\n",
        "top_n = 10\n",
        "top_conditions = sample['Weather_Condition'].value_counts().nlargest(top_n).index.tolist()\n",
        "subset = sample[sample['Weather_Condition'].isin(top_conditions)]\n",
        "\n",
        "sns.set(style=\"whitegrid\")\n",
        "plt.figure(figsize=(12,6))\n",
        "ax = sns.countplot(\n",
        "    data=subset,\n",
        "    y='Weather_Condition',\n",
        "    hue='Severity',\n",
        "    order=top_conditions,\n",
        "    palette='bright'\n",
        ")\n",
        "\n",
        "plt.title('Accident severity counts by top road surface / weather conditions')\n",
        "plt.xlabel('Number of accidents')\n",
        "plt.ylabel('Weather_Condition')\n",
        "plt.legend(title='Severity'),\n",
        "plt.tight_layout()\n",
        "plt.show()"
      ]
    },
    {
      "cell_type": "markdown",
      "metadata": {
        "id": "2gBQnPbS4odT"
      },
      "source": [
        "### Q3: Come up with a another unique question. This question must use map() or apply()\n",
        "\n",
        "####Question: Can we visualize how accident severity by time of day using the `Sunrise_Sunset`?(Day vs. Night accident)"
      ]
    },
    {
      "cell_type": "code",
      "execution_count": 5,
      "metadata": {
        "colab": {
          "base_uri": "https://localhost:8080/",
          "height": 516
        },
        "id": "iBBfjifl4tWD",
        "outputId": "6779abdd-8965-4684-f210-bd00e25c67a7"
      },
      "outputs": [
        {
          "data": {
            "image/png": "[encoded data removed]",
            "text/plain": [
              "<Figure size 640x480 with 1 Axes>"
            ]
          },
          "metadata": {},
          "output_type": "display_data"
        },
        {
          "name": "stdout",
          "output_type": "stream",
          "text": [
            "There are more accidents during the day than there are during the night. \n",
            "This means higher daytime traffic may lead to more frequent accidents\n"
          ]
        }
      ],
      "source": [
        "# Your code here . . .\n",
        "import seaborn as sns\n",
        "import matplotlib.pyplot as plt\n",
        "\n",
        "sample['Sunrise_Sunset'].value_counts() #yay!! already clean, no other vals except 'Day' and 'Night'\n",
        "\n",
        "sample['Severity'].value_counts() #clean too using map() here\n",
        "\n",
        "#Severity column discription from kaggle\n",
        "#Shows the severity of the accident, a number between 1 and 4, where 1 indicates the least impact on traffic\n",
        " #(i.e., short delay as a result of the accident) and 4 indicates a significant impact on traffic (i.e., long delay).\n",
        "\n",
        "Severity_Labels = {1:'Minor',\n",
        "                   2:'Moderate',\n",
        "                   3:'Major',\n",
        "                   4:'Sever'\n",
        "                   }\n",
        "\n",
        "sample['Severity_Labels'] = sample['Severity'].map(Severity_Labels)\n",
        "\n",
        "sns.countplot(data=sample,\n",
        "              x='Severity_Labels',\n",
        "              hue='Sunrise_Sunset',\n",
        "              order=['Minor','Moderate','Major','Sever'],\n",
        "              palette='bright'\n",
        "              )\n",
        "plt.title('Accident Severity by Time of Day')\n",
        "plt.show()\n",
        "print('There are more accidents during the day than there are during the night. \\nThis means higher daytime traffic may lead to more frequent accidents')\n",
        "\n"
      ]
    },
    {
      "cell_type": "markdown",
      "metadata": {
        "id": "2QajJFw5j_Oe"
      },
      "source": [
        "### Q4: Create an interactive plot (skip for version 1)\n",
        "Create an interactive plot using plotly. Your plot can be a previously asked question or a new question, however explain how this interaction strengthen what you want to communicate with your audience."
      ]
    },
    {
      "cell_type": "code",
      "execution_count": 6,
      "metadata": {
        "colab": {
          "base_uri": "https://localhost:8080/",
          "height": 542
        },
        "id": "7jPqoJJdj-M7",
        "outputId": "7c6b9c5c-7e5d-4ca3-d44f-c8d56984b140"
      },
      "outputs": [
        {
          "data": {
            "application/vnd.plotly.v1+json": {
              "config": {
                "plotlyServerURL": "https://plot.ly"
              },
              "data": [
                {
                  "hovertemplate": "Sunrise_Sunset=Day<br>Severity_Labels=%{x}<br>Count=%{y}<extra></extra>",
                  "legendgroup": "Day",
                  "marker": {
                    "color": "#636efa",
                    "pattern": {
                      "shape": ""
                    }
                  },
                  "name": "Day",
                  "orientation": "v",
                  "showlegend": true,
                  "textposition": "auto",
                  "type": "bar",
                  "x": [
                    "Major",
                    "Minor",
                    "Moderate",
                    "Sever"
                  ],
                  "xaxis": "x",
                  "y": {
                    "bdata": "NOsAAKoNAAA5LQQALx4AAA==",
                    "dtype": "i4"
                  },
                  "yaxis": "y"
                },
                {
                  "hovertemplate": "Sunrise_Sunset=Night<br>Severity_Labels=%{x}<br>Count=%{y}<extra></extra>",
                  "legendgroup": "Night",
                  "marker": {
                    "color": "#EF553B",
                    "pattern": {
                      "shape": ""
                    }
                  },
                  "name": "Night",
                  "orientation": "v",
                  "showlegend": true,
                  "textposition": "auto",
                  "type": "bar",
                  "x": [
                    "Major",
                    "Minor",
                    "Moderate",
                    "Sever"
                  ],
                  "xaxis": "x",
                  "y": {
                    "bdata": "NVwAAAoDAABr4gEAjBQAAA==",
                    "dtype": "i4"
                  },
                  "yaxis": "y"
                }
              ],
              "layout": {
                "barmode": "group",
                "legend": {
                  "title": {
                    "text": "Sunrise_Sunset"
                  },
                  "tracegroupgap": 0
                },
                "template": {
                  "data": {
                    "bar": [
                      {
                        "error_x": {
                          "color": "#2a3f5f"
                        },
                        "error_y": {
                          "color": "#2a3f5f"
                        },
                        "marker": {
                          "line": {
                            "color": "#E5ECF6",
                            "width": 0.5
                          },
                          "pattern": {
                            "fillmode": "overlay",
                            "size": 10,
                            "solidity": 0.2
                          }
                        },
                        "type": "bar"
                      }
                    ],
                    "barpolar": [
                      {
                        "marker": {
                          "line": {
                            "color": "#E5ECF6",
                            "width": 0.5
                          },
                          "pattern": {
                            "fillmode": "overlay",
                            "size": 10,
                            "solidity": 0.2
                          }
                        },
                        "type": "barpolar"
                      }
                    ],
                    "carpet": [
                      {
                        "aaxis": {
                          "endlinecolor": "#2a3f5f",
                          "gridcolor": "white",
                          "linecolor": "white",
                          "minorgridcolor": "white",
                          "startlinecolor": "#2a3f5f"
                        },
                        "baxis": {
                          "endlinecolor": "#2a3f5f",
                          "gridcolor": "white",
                          "linecolor": "white",
                          "minorgridcolor": "white",
                          "startlinecolor": "#2a3f5f"
                        },
                        "type": "carpet"
                      }
                    ],
                    "choropleth": [
                      {
                        "colorbar": {
                          "outlinewidth": 0,
                          "ticks": ""
                        },
                        "type": "choropleth"
                      }
                    ],
                    "contour": [
                      {
                        "colorbar": {
                          "outlinewidth": 0,
                          "ticks": ""
                        },
                        "colorscale": [
                          [
                            0,
                            "#0d0887"
                          ],
                          [
                            0.1111111111111111,
                            "#46039f"
                          ],
                          [
                            0.2222222222222222,
                            "#7201a8"
                          ],
                          [
                            0.3333333333333333,
                            "#9c179e"
                          ],
                          [
                            0.4444444444444444,
                            "#bd3786"
                          ],
                          [
                            0.5555555555555556,
                            "#d8576b"
                          ],
                          [
                            0.6666666666666666,
                            "#ed7953"
                          ],
                          [
                            0.7777777777777778,
                            "#fb9f3a"
                          ],
                          [
                            0.8888888888888888,
                            "#fdca26"
                          ],
                          [
                            1,
                            "#f0f921"
                          ]
                        ],
                        "type": "contour"
                      }
                    ],
                    "contourcarpet": [
                      {
                        "colorbar": {
                          "outlinewidth": 0,
                          "ticks": ""
                        },
                        "type": "contourcarpet"
                      }
                    ],
                    "heatmap": [
                      {
                        "colorbar": {
                          "outlinewidth": 0,
                          "ticks": ""
                        },
                        "colorscale": [
                          [
                            0,
                            "#0d0887"
                          ],
                          [
                            0.1111111111111111,
                            "#46039f"
                          ],
                          [
                            0.2222222222222222,
                            "#7201a8"
                          ],
                          [
                            0.3333333333333333,
                            "#9c179e"
                          ],
                          [
                            0.4444444444444444,
                            "#bd3786"
                          ],
                          [
                            0.5555555555555556,
                            "#d8576b"
                          ],
                          [
                            0.6666666666666666,
                            "#ed7953"
                          ],
                          [
                            0.7777777777777778,
                            "#fb9f3a"
                          ],
                          [
                            0.8888888888888888,
                            "#fdca26"
                          ],
                          [
                            1,
                            "#f0f921"
                          ]
                        ],
                        "type": "heatmap"
                      }
                    ],
                    "histogram": [
                      {
                        "marker": {
                          "pattern": {
                            "fillmode": "overlay",
                            "size": 10,
                            "solidity": 0.2
                          }
                        },
                        "type": "histogram"
                      }
                    ],
                    "histogram2d": [
                      {
                        "colorbar": {
                          "outlinewidth": 0,
                          "ticks": ""
                        },
                        "colorscale": [
                          [
                            0,
                            "#0d0887"
                          ],
                          [
                            0.1111111111111111,
                            "#46039f"
                          ],
                          [
                            0.2222222222222222,
                            "#7201a8"
                          ],
                          [
                            0.3333333333333333,
                            "#9c179e"
                          ],
                          [
                            0.4444444444444444,
                            "#bd3786"
                          ],
                          [
                            0.5555555555555556,
                            "#d8576b"
                          ],
                          [
                            0.6666666666666666,
                            "#ed7953"
                          ],
                          [
                            0.7777777777777778,
                            "#fb9f3a"
                          ],
                          [
                            0.8888888888888888,
                            "#fdca26"
                          ],
                          [
                            1,
                            "#f0f921"
                          ]
                        ],
                        "type": "histogram2d"
                      }
                    ],
                    "histogram2dcontour": [
                      {
                        "colorbar": {
                          "outlinewidth": 0,
                          "ticks": ""
                        },
                        "colorscale": [
                          [
                            0,
                            "#0d0887"
                          ],
                          [
                            0.1111111111111111,
                            "#46039f"
                          ],
                          [
                            0.2222222222222222,
                            "#7201a8"
                          ],
                          [
                            0.3333333333333333,
                            "#9c179e"
                          ],
                          [
                            0.4444444444444444,
                            "#bd3786"
                          ],
                          [
                            0.5555555555555556,
                            "#d8576b"
                          ],
                          [
                            0.6666666666666666,
                            "#ed7953"
                          ],
                          [
                            0.7777777777777778,
                            "#fb9f3a"
                          ],
                          [
                            0.8888888888888888,
                            "#fdca26"
                          ],
                          [
                            1,
                            "#f0f921"
                          ]
                        ],
                        "type": "histogram2dcontour"
                      }
                    ],
                    "mesh3d": [
                      {
                        "colorbar": {
                          "outlinewidth": 0,
                          "ticks": ""
                        },
                        "type": "mesh3d"
                      }
                    ],
                    "parcoords": [
                      {
                        "line": {
                          "colorbar": {
                            "outlinewidth": 0,
                            "ticks": ""
                          }
                        },
                        "type": "parcoords"
                      }
                    ],
                    "pie": [
                      {
                        "automargin": true,
                        "type": "pie"
                      }
                    ],
                    "scatter": [
                      {
                        "fillpattern": {
                          "fillmode": "overlay",
                          "size": 10,
                          "solidity": 0.2
                        },
                        "type": "scatter"
                      }
                    ],
                    "scatter3d": [
                      {
                        "line": {
                          "colorbar": {
                            "outlinewidth": 0,
                            "ticks": ""
                          }
                        },
                        "marker": {
                          "colorbar": {
                            "outlinewidth": 0,
                            "ticks": ""
                          }
                        },
                        "type": "scatter3d"
                      }
                    ],
                    "scattercarpet": [
                      {
                        "marker": {
                          "colorbar": {
                            "outlinewidth": 0,
                            "ticks": ""
                          }
                        },
                        "type": "scattercarpet"
                      }
                    ],
                    "scattergeo": [
                      {
                        "marker": {
                          "colorbar": {
                            "outlinewidth": 0,
                            "ticks": ""
                          }
                        },
                        "type": "scattergeo"
                      }
                    ],
                    "scattergl": [
                      {
                        "marker": {
                          "colorbar": {
                            "outlinewidth": 0,
                            "ticks": ""
                          }
                        },
                        "type": "scattergl"
                      }
                    ],
                    "scattermap": [
                      {
                        "marker": {
                          "colorbar": {
                            "outlinewidth": 0,
                            "ticks": ""
                          }
                        },
                        "type": "scattermap"
                      }
                    ],
                    "scattermapbox": [
                      {
                        "marker": {
                          "colorbar": {
                            "outlinewidth": 0,
                            "ticks": ""
                          }
                        },
                        "type": "scattermapbox"
                      }
                    ],
                    "scatterpolar": [
                      {
                        "marker": {
                          "colorbar": {
                            "outlinewidth": 0,
                            "ticks": ""
                          }
                        },
                        "type": "scatterpolar"
                      }
                    ],
                    "scatterpolargl": [
                      {
                        "marker": {
                          "colorbar": {
                            "outlinewidth": 0,
                            "ticks": ""
                          }
                        },
                        "type": "scatterpolargl"
                      }
                    ],
                    "scatterternary": [
                      {
                        "marker": {
                          "colorbar": {
                            "outlinewidth": 0,
                            "ticks": ""
                          }
                        },
                        "type": "scatterternary"
                      }
                    ],
                    "surface": [
                      {
                        "colorbar": {
                          "outlinewidth": 0,
                          "ticks": ""
                        },
                        "colorscale": [
                          [
                            0,
                            "#0d0887"
                          ],
                          [
                            0.1111111111111111,
                            "#46039f"
                          ],
                          [
                            0.2222222222222222,
                            "#7201a8"
                          ],
                          [
                            0.3333333333333333,
                            "#9c179e"
                          ],
                          [
                            0.4444444444444444,
                            "#bd3786"
                          ],
                          [
                            0.5555555555555556,
                            "#d8576b"
                          ],
                          [
                            0.6666666666666666,
                            "#ed7953"
                          ],
                          [
                            0.7777777777777778,
                            "#fb9f3a"
                          ],
                          [
                            0.8888888888888888,
                            "#fdca26"
                          ],
                          [
                            1,
                            "#f0f921"
                          ]
                        ],
                        "type": "surface"
                      }
                    ],
                    "table": [
                      {
                        "cells": {
                          "fill": {
                            "color": "#EBF0F8"
                          },
                          "line": {
                            "color": "white"
                          }
                        },
                        "header": {
                          "fill": {
                            "color": "#C8D4E3"
                          },
                          "line": {
                            "color": "white"
                          }
                        },
                        "type": "table"
                      }
                    ]
                  },
                  "layout": {
                    "annotationdefaults": {
                      "arrowcolor": "#2a3f5f",
                      "arrowhead": 0,
                      "arrowwidth": 1
                    },
                    "autotypenumbers": "strict",
                    "coloraxis": {
                      "colorbar": {
                        "outlinewidth": 0,
                        "ticks": ""
                      }
                    },
                    "colorscale": {
                      "diverging": [
                        [
                          0,
                          "#8e0152"
                        ],
                        [
                          0.1,
                          "#c51b7d"
                        ],
                        [
                          0.2,
                          "#de77ae"
                        ],
                        [
                          0.3,
                          "#f1b6da"
                        ],
                        [
                          0.4,
                          "#fde0ef"
                        ],
                        [
                          0.5,
                          "#f7f7f7"
                        ],
                        [
                          0.6,
                          "#e6f5d0"
                        ],
                        [
                          0.7,
                          "#b8e186"
                        ],
                        [
                          0.8,
                          "#7fbc41"
                        ],
                        [
                          0.9,
                          "#4d9221"
                        ],
                        [
                          1,
                          "#276419"
                        ]
                      ],
                      "sequential": [
                        [
                          0,
                          "#0d0887"
                        ],
                        [
                          0.1111111111111111,
                          "#46039f"
                        ],
                        [
                          0.2222222222222222,
                          "#7201a8"
                        ],
                        [
                          0.3333333333333333,
                          "#9c179e"
                        ],
                        [
                          0.4444444444444444,
                          "#bd3786"
                        ],
                        [
                          0.5555555555555556,
                          "#d8576b"
                        ],
                        [
                          0.6666666666666666,
                          "#ed7953"
                        ],
                        [
                          0.7777777777777778,
                          "#fb9f3a"
                        ],
                        [
                          0.8888888888888888,
                          "#fdca26"
                        ],
                        [
                          1,
                          "#f0f921"
                        ]
                      ],
                      "sequentialminus": [
                        [
                          0,
                          "#0d0887"
                        ],
                        [
                          0.1111111111111111,
                          "#46039f"
                        ],
                        [
                          0.2222222222222222,
                          "#7201a8"
                        ],
                        [
                          0.3333333333333333,
                          "#9c179e"
                        ],
                        [
                          0.4444444444444444,
                          "#bd3786"
                        ],
                        [
                          0.5555555555555556,
                          "#d8576b"
                        ],
                        [
                          0.6666666666666666,
                          "#ed7953"
                        ],
                        [
                          0.7777777777777778,
                          "#fb9f3a"
                        ],
                        [
                          0.8888888888888888,
                          "#fdca26"
                        ],
                        [
                          1,
                          "#f0f921"
                        ]
                      ]
                    },
                    "colorway": [
                      "#636efa",
                      "#EF553B",
                      "#00cc96",
                      "#ab63fa",
                      "#FFA15A",
                      "#19d3f3",
                      "#FF6692",
                      "#B6E880",
                      "#FF97FF",
                      "#FECB52"
                    ],
                    "font": {
                      "color": "#2a3f5f"
                    },
                    "geo": {
                      "bgcolor": "white",
                      "lakecolor": "white",
                      "landcolor": "#E5ECF6",
                      "showlakes": true,
                      "showland": true,
                      "subunitcolor": "white"
                    },
                    "hoverlabel": {
                      "align": "left"
                    },
                    "hovermode": "closest",
                    "mapbox": {
                      "style": "light"
                    },
                    "paper_bgcolor": "white",
                    "plot_bgcolor": "#E5ECF6",
                    "polar": {
                      "angularaxis": {
                        "gridcolor": "white",
                        "linecolor": "white",
                        "ticks": ""
                      },
                      "bgcolor": "#E5ECF6",
                      "radialaxis": {
                        "gridcolor": "white",
                        "linecolor": "white",
                        "ticks": ""
                      }
                    },
                    "scene": {
                      "xaxis": {
                        "backgroundcolor": "#E5ECF6",
                        "gridcolor": "white",
                        "gridwidth": 2,
                        "linecolor": "white",
                        "showbackground": true,
                        "ticks": "",
                        "zerolinecolor": "white"
                      },
                      "yaxis": {
                        "backgroundcolor": "#E5ECF6",
                        "gridcolor": "white",
                        "gridwidth": 2,
                        "linecolor": "white",
                        "showbackground": true,
                        "ticks": "",
                        "zerolinecolor": "white"
                      },
                      "zaxis": {
                        "backgroundcolor": "#E5ECF6",
                        "gridcolor": "white",
                        "gridwidth": 2,
                        "linecolor": "white",
                        "showbackground": true,
                        "ticks": "",
                        "zerolinecolor": "white"
                      }
                    },
                    "shapedefaults": {
                      "line": {
                        "color": "#2a3f5f"
                      }
                    },
                    "ternary": {
                      "aaxis": {
                        "gridcolor": "white",
                        "linecolor": "white",
                        "ticks": ""
                      },
                      "baxis": {
                        "gridcolor": "white",
                        "linecolor": "white",
                        "ticks": ""
                      },
                      "bgcolor": "#E5ECF6",
                      "caxis": {
                        "gridcolor": "white",
                        "linecolor": "white",
                        "ticks": ""
                      }
                    },
                    "title": {
                      "x": 0.05
                    },
                    "xaxis": {
                      "automargin": true,
                      "gridcolor": "white",
                      "linecolor": "white",
                      "ticks": "",
                      "title": {
                        "standoff": 15
                      },
                      "zerolinecolor": "white",
                      "zerolinewidth": 2
                    },
                    "yaxis": {
                      "automargin": true,
                      "gridcolor": "white",
                      "linecolor": "white",
                      "ticks": "",
                      "title": {
                        "standoff": 15
                      },
                      "zerolinecolor": "white",
                      "zerolinewidth": 2
                    }
                  }
                },
                "title": {
                  "text": "Accident Severity by Time of Day"
                },
                "xaxis": {
                  "anchor": "y",
                  "categoryarray": [
                    "Minor",
                    "Moderate",
                    "Major",
                    "Sever"
                  ],
                  "categoryorder": "array",
                  "domain": [
                    0,
                    1
                  ],
                  "title": {
                    "text": "Severity"
                  }
                },
                "yaxis": {
                  "anchor": "x",
                  "domain": [
                    0,
                    1
                  ],
                  "title": {
                    "text": "Number of Accidents"
                  }
                }
              }
            }
          },
          "metadata": {},
          "output_type": "display_data"
        }
      ],
      "source": [
        "# Your code here . . . Have not learned interactive plots yet\n",
        "import plotly.express as px\n",
        "\n",
        "\n",
        "\n",
        "\n",
        "Severity_Labels = {1:'Minor',\n",
        "                   2:'Moderate',\n",
        "                   3:'Major',\n",
        "                   4:'Sever'\n",
        "                  }\n",
        "\n",
        "sample['Severity_Labels'] = sample['Severity'].map(Severity_Labels)\n",
        "\n",
        "#count accidents for day and night for all severity levels\n",
        "df_count = sample.groupby(['Sunrise_Sunset', 'Severity_Labels']).size().reset_index(name='Count')\n",
        "\n",
        "fig = px.bar(df_count,\n",
        "             x='Severity_Labels',\n",
        "             y='Count',\n",
        "             color='Sunrise_Sunset',\n",
        "             category_orders={'Severity_Labels': ['Minor', 'Moderate', 'Major', 'Sever']},\n",
        "             title='Accident Severity by Time of Day'\n",
        "            )\n",
        "fig.update_layout(xaxis_title='Severity', yaxis_title='Number of Accidents',barmode='group')\n",
        "fig.show()"
      ]
    },
    {
      "cell_type": "markdown",
      "metadata": {
        "id": "4tSIFLPRShMX"
      },
      "source": [
        "The interactive plot strengthens communication with the audience by allowing viewers to explor accident patterns by hovering, and comparing the categories directly. This interactive plot makes accedent severity between day and night more clear and engaging by being able to get the count."
      ]
    },
    {
      "attachments": {
        "image-2.png": {
          "image/png": "[encoded data removed]"
        }
      },
      "cell_type": "markdown",
      "metadata": {},
      "source": [
        "Screenshot of iplot as it doesn't appear in the github repo  \n",
        "\n",
        "![image-2.png](attachment:image-2.png)"
      ]
    },
    {
      "cell_type": "markdown",
      "metadata": {
        "id": "INxqWvFUCapx"
      },
      "source": [
        "## Q5: Additional datasets and data processing\n",
        "For the questions below you do not need to do the plotting if you have not found another complementary dataset. However, write the psuedocode of how you could go about answering the questions and sketches of what your visualization might be. Answer the following:\n",
        "\n",
        "What additional datasets would you need to find or create to help strengthen your data?\n",
        "How would you combine the dataset?\n",
        "Do you need to reshape your data and how could you go about it?"
      ]
    },
    {
      "cell_type": "markdown",
      "metadata": {
        "id": "BMNhxr8Ehatq"
      },
      "source": [
        "# Useful datasets:  \n",
        "1. Local weather station historical hourly data\n",
        "    * Weather at the time of crash could help explain severity   \n",
        "2. Traffic volume\n",
        "    * Congestion and traffic density correlate with accident frequency/severity   \n",
        "3. Road network / speed limits / lane counts / road classification (state DOT shapefiles)\n",
        "    * Road type and speed limit could affect severity   \n",
        "4. Census tract demographics or population density\n",
        "    * Ubran/rural differences   \n",
        "5. Holidays/events calendar\n",
        "    * Helps distinguish holiday related traffic patterns   \n",
        "6. Police report database\n",
        "    * Validate severity labels   \n",
        "\n",
        "# How to combine:  \n",
        "* Join on time + location\n",
        "    * Convert `Start_Time` to either UTC or local timezone. Use a rounded lat/long to match grid\n",
        "    * For weather: join by nearest weather station and the closest hourly observation to `Start_Time`   \n",
        "* Reshape / Aggregation\n",
        "  * Resample hourly/day to merge with hourly weather/traffic.\n",
        "  * Aggregate to county/day for macro analysis (e.g., accidents per county per day vs rainfall).\n"
      ]
    },
    {
      "cell_type": "code",
      "execution_count": 7,
      "metadata": {
        "id": "Q_HBFKFcCbDp"
      },
      "outputs": [],
      "source": [
        "# PSEUDOCODE\n",
        "# 1. load accidents -> df_acc\n",
        "# 2. load weather hourly -> df_weather\n",
        "# 3. convert Start_Time to timezone-aware datetime\n",
        "# 4. for each accident: find nearest weather station (or cluster) within 50km\n",
        "# 5. join the weather obs at the nearest hour\n",
        "# 6. create features: precip_flag, temp_below_zero, heavy_rain, visibility_low\n",
        "# 7. now analyze severity ~ weather features (group, logistic regression, or plots)\n"
      ]
    }
  ],
  "metadata": {
    "colab": {
      "provenance": []
    },
    "kernelspec": {
      "display_name": "Python 3",
      "language": "python",
      "name": "python3"
    },
    "language_info": {
      "codemirror_mode": {
        "name": "ipython",
        "version": 3
      },
      "file_extension": ".py",
      "mimetype": "text/x-python",
      "name": "python",
      "nbconvert_exporter": "python",
      "pygments_lexer": "ipython3",
      "version": "3.13.7"
    }
  },
  "nbformat": 4,
  "nbformat_minor": 0
}
