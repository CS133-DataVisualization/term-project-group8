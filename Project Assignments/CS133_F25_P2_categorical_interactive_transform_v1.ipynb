{
  "cells": [
    {
      "cell_type": "markdown",
      "metadata": {
        "id": "G1R_oERWiKtv"
      },
      "source": [
        "# Project data exploration II -\n",
        "## plotting categorical plot and incorporating other data\n",
        "\n",
        "---\n",
        "\n",
        "\n",
        "We will continue to work with the dataset that your group is consider for the term project. In this notebook we will create some plot using the Seaborn module and the different categorical plots we practiced in class. Additionally, we will explore the idea of working with other datasets in addition to the one you originally selected to strengthen your argument."
      ]
    },
    {
      "cell_type": "markdown",
      "metadata": {
        "id": "Ml3CVbR8iSwb"
      },
      "source": [
        "Group name:  Group 8\n",
        "\n",
        "Created by NAMES (SJSU IDs):\n",
        "\n",
        "Eden Kidane(017234854), Salma Ibrahim (013934479), Jacob Timoteo (017676672)\n",
        "\n",
        "\n",
        "Last updated: 10/12/25  "
      ]
    },
    {
      "cell_type": "code",
      "execution_count": 1,
      "metadata": {
        "colab": {
          "base_uri": "https://localhost:8080/"
        },
        "id": "dUyOpDgtgLTZ",
        "outputId": "b13e77bb-74a1-41c5-edc0-6966a7376cf2"
      },
      "outputs": [
        {
          "name": "stdout",
          "output_type": "stream",
          "text": [
            "Reading file in chunks: C:\\Users\\jacob\\.cache\\kagglehub\\datasets\\sobhanmoosavi\\us-accidents\\versions\\13\\US_Accidents_March23.csv\n",
            "Total rows: 7,728,394\n",
            "Sampling 500,000 rows...\n",
            "Saved 500,000 rows to us_accidents_sample_500k.csv\n"
          ]
        }
      ],
      "source": [
        "import kagglehub\n",
        "import pandas as pd\n",
        "import random\n",
        "import glob\n",
        "\n",
        "# Download the dataset\n",
        "path = kagglehub.dataset_download(\"sobhanmoosavi/us-accidents\")\n",
        "csv_file = glob.glob(f'{path}/*.csv')[0]\n",
        "\n",
        "print(f\"Reading file in chunks: {csv_file}\")\n",
        "\n",
        "# First, count total rows\n",
        "total_rows = sum(1 for _ in open(csv_file)) - 1  # subtract header\n",
        "\n",
        "# Calculate skip probability to get ~500k rows\n",
        "sample_size = 500000\n",
        "skip_prob = 1 - (sample_size / total_rows)\n",
        "\n",
        "print(f\"Total rows: {total_rows:,}\")\n",
        "print(f\"Sampling {sample_size:,} rows...\")\n",
        "\n",
        "# Read with random sampling\n",
        "df = pd.read_csv(\n",
        "    csv_file,\n",
        "    skiprows=lambda i: i > 0 and random.random() < skip_prob\n",
        ")\n",
        "\n",
        "# If we got more/less than exactly 500k, adjust\n",
        "if len(df) > sample_size:\n",
        "    df = df.sample(n=sample_size, random_state=42)\n",
        "\n",
        "df.to_csv('us_accidents_sample_500k.csv', index=False)\n",
        "print(f\"Saved {len(df):,} rows to us_accidents_sample_500k.csv\")"
      ]
    },
    {
      "cell_type": "code",
      "execution_count": 2,
      "metadata": {
        "colab": {
          "base_uri": "https://localhost:8080/",
          "height": 790
        },
        "id": "jNSNpMPxjhue",
        "outputId": "4cc504f2-40dd-4b65-dc31-92921e7086cf"
      },
      "outputs": [
        {
          "data": {
            "text/html": [
              "<div>\n",
              "<style scoped>\n",
              "    .dataframe tbody tr th:only-of-type {\n",
              "        vertical-align: middle;\n",
              "    }\n",
              "\n",
              "    .dataframe tbody tr th {\n",
              "        vertical-align: top;\n",
              "    }\n",
              "\n",
              "    .dataframe thead th {\n",
              "        text-align: right;\n",
              "    }\n",
              "</style>\n",
              "<table border=\"1\" class=\"dataframe\">\n",
              "  <thead>\n",
              "    <tr style=\"text-align: right;\">\n",
              "      <th></th>\n",
              "      <th>ID</th>\n",
              "      <th>Source</th>\n",
              "      <th>Severity</th>\n",
              "      <th>Start_Time</th>\n",
              "      <th>End_Time</th>\n",
              "      <th>Start_Lat</th>\n",
              "      <th>Start_Lng</th>\n",
              "      <th>End_Lat</th>\n",
              "      <th>End_Lng</th>\n",
              "      <th>Distance(mi)</th>\n",
              "      <th>...</th>\n",
              "      <th>Roundabout</th>\n",
              "      <th>Station</th>\n",
              "      <th>Stop</th>\n",
              "      <th>Traffic_Calming</th>\n",
              "      <th>Traffic_Signal</th>\n",
              "      <th>Turning_Loop</th>\n",
              "      <th>Sunrise_Sunset</th>\n",
              "      <th>Civil_Twilight</th>\n",
              "      <th>Nautical_Twilight</th>\n",
              "      <th>Astronomical_Twilight</th>\n",
              "    </tr>\n",
              "  </thead>\n",
              "  <tbody>\n",
              "    <tr>\n",
              "      <th>0</th>\n",
              "      <td>A-7234321</td>\n",
              "      <td>Source1</td>\n",
              "      <td>2</td>\n",
              "      <td>2020-01-22 15:31:00</td>\n",
              "      <td>2020-01-22 16:22:52</td>\n",
              "      <td>34.030662</td>\n",
              "      <td>-117.610875</td>\n",
              "      <td>34.030662</td>\n",
              "      <td>-117.610875</td>\n",
              "      <td>0.000</td>\n",
              "      <td>...</td>\n",
              "      <td>False</td>\n",
              "      <td>False</td>\n",
              "      <td>False</td>\n",
              "      <td>False</td>\n",
              "      <td>False</td>\n",
              "      <td>False</td>\n",
              "      <td>Day</td>\n",
              "      <td>Day</td>\n",
              "      <td>Day</td>\n",
              "      <td>Day</td>\n",
              "    </tr>\n",
              "    <tr>\n",
              "      <th>1</th>\n",
              "      <td>A-7019284</td>\n",
              "      <td>Source1</td>\n",
              "      <td>2</td>\n",
              "      <td>2020-05-09 12:57:00</td>\n",
              "      <td>2020-05-09 15:00:00</td>\n",
              "      <td>38.567320</td>\n",
              "      <td>-112.256150</td>\n",
              "      <td>38.567320</td>\n",
              "      <td>-112.256150</td>\n",
              "      <td>0.000</td>\n",
              "      <td>...</td>\n",
              "      <td>False</td>\n",
              "      <td>False</td>\n",
              "      <td>False</td>\n",
              "      <td>False</td>\n",
              "      <td>False</td>\n",
              "      <td>False</td>\n",
              "      <td>Day</td>\n",
              "      <td>Day</td>\n",
              "      <td>Day</td>\n",
              "      <td>Day</td>\n",
              "    </tr>\n",
              "    <tr>\n",
              "      <th>2</th>\n",
              "      <td>A-6601279</td>\n",
              "      <td>Source1</td>\n",
              "      <td>2</td>\n",
              "      <td>2020-12-21 04:54:32</td>\n",
              "      <td>2020-12-21 06:55:39</td>\n",
              "      <td>45.288567</td>\n",
              "      <td>-92.981415</td>\n",
              "      <td>45.287147</td>\n",
              "      <td>-92.982191</td>\n",
              "      <td>0.105</td>\n",
              "      <td>...</td>\n",
              "      <td>False</td>\n",
              "      <td>False</td>\n",
              "      <td>False</td>\n",
              "      <td>False</td>\n",
              "      <td>False</td>\n",
              "      <td>False</td>\n",
              "      <td>Night</td>\n",
              "      <td>Night</td>\n",
              "      <td>Night</td>\n",
              "      <td>Night</td>\n",
              "    </tr>\n",
              "    <tr>\n",
              "      <th>3</th>\n",
              "      <td>A-7697858</td>\n",
              "      <td>Source1</td>\n",
              "      <td>2</td>\n",
              "      <td>2017-08-18 10:42:10</td>\n",
              "      <td>2017-08-18 16:42:10</td>\n",
              "      <td>33.893780</td>\n",
              "      <td>-118.047361</td>\n",
              "      <td>33.893250</td>\n",
              "      <td>-118.046380</td>\n",
              "      <td>0.067</td>\n",
              "      <td>...</td>\n",
              "      <td>False</td>\n",
              "      <td>False</td>\n",
              "      <td>False</td>\n",
              "      <td>False</td>\n",
              "      <td>False</td>\n",
              "      <td>False</td>\n",
              "      <td>Day</td>\n",
              "      <td>Day</td>\n",
              "      <td>Day</td>\n",
              "      <td>Day</td>\n",
              "    </tr>\n",
              "    <tr>\n",
              "      <th>4</th>\n",
              "      <td>A-1350656</td>\n",
              "      <td>Source2</td>\n",
              "      <td>2</td>\n",
              "      <td>2020-10-21 10:53:04</td>\n",
              "      <td>2020-10-21 11:22:53</td>\n",
              "      <td>34.818550</td>\n",
              "      <td>-81.635628</td>\n",
              "      <td>NaN</td>\n",
              "      <td>NaN</td>\n",
              "      <td>0.000</td>\n",
              "      <td>...</td>\n",
              "      <td>False</td>\n",
              "      <td>False</td>\n",
              "      <td>False</td>\n",
              "      <td>False</td>\n",
              "      <td>False</td>\n",
              "      <td>False</td>\n",
              "      <td>Day</td>\n",
              "      <td>Day</td>\n",
              "      <td>Day</td>\n",
              "      <td>Day</td>\n",
              "    </tr>\n",
              "    <tr>\n",
              "      <th>...</th>\n",
              "      <td>...</td>\n",
              "      <td>...</td>\n",
              "      <td>...</td>\n",
              "      <td>...</td>\n",
              "      <td>...</td>\n",
              "      <td>...</td>\n",
              "      <td>...</td>\n",
              "      <td>...</td>\n",
              "      <td>...</td>\n",
              "      <td>...</td>\n",
              "      <td>...</td>\n",
              "      <td>...</td>\n",
              "      <td>...</td>\n",
              "      <td>...</td>\n",
              "      <td>...</td>\n",
              "      <td>...</td>\n",
              "      <td>...</td>\n",
              "      <td>...</td>\n",
              "      <td>...</td>\n",
              "      <td>...</td>\n",
              "      <td>...</td>\n",
              "    </tr>\n",
              "    <tr>\n",
              "      <th>499995</th>\n",
              "      <td>A-2760119</td>\n",
              "      <td>Source2</td>\n",
              "      <td>3</td>\n",
              "      <td>2018-06-13 04:53:29</td>\n",
              "      <td>2018-06-13 05:23:10</td>\n",
              "      <td>34.069626</td>\n",
              "      <td>-117.797287</td>\n",
              "      <td>NaN</td>\n",
              "      <td>NaN</td>\n",
              "      <td>0.290</td>\n",
              "      <td>...</td>\n",
              "      <td>False</td>\n",
              "      <td>False</td>\n",
              "      <td>False</td>\n",
              "      <td>False</td>\n",
              "      <td>False</td>\n",
              "      <td>False</td>\n",
              "      <td>Night</td>\n",
              "      <td>Night</td>\n",
              "      <td>Day</td>\n",
              "      <td>Day</td>\n",
              "    </tr>\n",
              "    <tr>\n",
              "      <th>499996</th>\n",
              "      <td>A-4749028</td>\n",
              "      <td>Source1</td>\n",
              "      <td>2</td>\n",
              "      <td>2022-02-09 18:12:28</td>\n",
              "      <td>2022-02-09 19:32:14</td>\n",
              "      <td>36.644354</td>\n",
              "      <td>-87.167641</td>\n",
              "      <td>36.644930</td>\n",
              "      <td>-87.167751</td>\n",
              "      <td>0.040</td>\n",
              "      <td>...</td>\n",
              "      <td>False</td>\n",
              "      <td>False</td>\n",
              "      <td>False</td>\n",
              "      <td>False</td>\n",
              "      <td>False</td>\n",
              "      <td>False</td>\n",
              "      <td>NaN</td>\n",
              "      <td>NaN</td>\n",
              "      <td>NaN</td>\n",
              "      <td>NaN</td>\n",
              "    </tr>\n",
              "    <tr>\n",
              "      <th>499997</th>\n",
              "      <td>A-4636675</td>\n",
              "      <td>Source1</td>\n",
              "      <td>2</td>\n",
              "      <td>2022-04-02 19:33:07</td>\n",
              "      <td>2022-04-02 20:49:21</td>\n",
              "      <td>27.982637</td>\n",
              "      <td>-82.721641</td>\n",
              "      <td>27.982631</td>\n",
              "      <td>-82.721229</td>\n",
              "      <td>0.025</td>\n",
              "      <td>...</td>\n",
              "      <td>False</td>\n",
              "      <td>False</td>\n",
              "      <td>False</td>\n",
              "      <td>False</td>\n",
              "      <td>False</td>\n",
              "      <td>False</td>\n",
              "      <td>Day</td>\n",
              "      <td>Day</td>\n",
              "      <td>Day</td>\n",
              "      <td>Day</td>\n",
              "    </tr>\n",
              "    <tr>\n",
              "      <th>499998</th>\n",
              "      <td>A-1289679</td>\n",
              "      <td>Source2</td>\n",
              "      <td>3</td>\n",
              "      <td>2020-09-08 07:46:16</td>\n",
              "      <td>2020-09-08 09:23:44</td>\n",
              "      <td>37.392471</td>\n",
              "      <td>-77.422897</td>\n",
              "      <td>NaN</td>\n",
              "      <td>NaN</td>\n",
              "      <td>0.000</td>\n",
              "      <td>...</td>\n",
              "      <td>False</td>\n",
              "      <td>False</td>\n",
              "      <td>False</td>\n",
              "      <td>False</td>\n",
              "      <td>False</td>\n",
              "      <td>False</td>\n",
              "      <td>Day</td>\n",
              "      <td>Day</td>\n",
              "      <td>Day</td>\n",
              "      <td>Day</td>\n",
              "    </tr>\n",
              "    <tr>\n",
              "      <th>499999</th>\n",
              "      <td>A-4748348</td>\n",
              "      <td>Source1</td>\n",
              "      <td>2</td>\n",
              "      <td>2023-01-23 18:02:00</td>\n",
              "      <td>2023-01-23 19:33:13</td>\n",
              "      <td>38.641362</td>\n",
              "      <td>-121.451662</td>\n",
              "      <td>38.641702</td>\n",
              "      <td>-121.462403</td>\n",
              "      <td>0.580</td>\n",
              "      <td>...</td>\n",
              "      <td>False</td>\n",
              "      <td>False</td>\n",
              "      <td>False</td>\n",
              "      <td>False</td>\n",
              "      <td>False</td>\n",
              "      <td>False</td>\n",
              "      <td>Night</td>\n",
              "      <td>Night</td>\n",
              "      <td>Day</td>\n",
              "      <td>Day</td>\n",
              "    </tr>\n",
              "  </tbody>\n",
              "</table>\n",
              "<p>500000 rows × 46 columns</p>\n",
              "</div>"
            ],
            "text/plain": [
              "               ID   Source  Severity           Start_Time  \\\n",
              "0       A-7234321  Source1         2  2020-01-22 15:31:00   \n",
              "1       A-7019284  Source1         2  2020-05-09 12:57:00   \n",
              "2       A-6601279  Source1         2  2020-12-21 04:54:32   \n",
              "3       A-7697858  Source1         2  2017-08-18 10:42:10   \n",
              "4       A-1350656  Source2         2  2020-10-21 10:53:04   \n",
              "...           ...      ...       ...                  ...   \n",
              "499995  A-2760119  Source2         3  2018-06-13 04:53:29   \n",
              "499996  A-4749028  Source1         2  2022-02-09 18:12:28   \n",
              "499997  A-4636675  Source1         2  2022-04-02 19:33:07   \n",
              "499998  A-1289679  Source2         3  2020-09-08 07:46:16   \n",
              "499999  A-4748348  Source1         2  2023-01-23 18:02:00   \n",
              "\n",
              "                   End_Time  Start_Lat   Start_Lng    End_Lat     End_Lng  \\\n",
              "0       2020-01-22 16:22:52  34.030662 -117.610875  34.030662 -117.610875   \n",
              "1       2020-05-09 15:00:00  38.567320 -112.256150  38.567320 -112.256150   \n",
              "2       2020-12-21 06:55:39  45.288567  -92.981415  45.287147  -92.982191   \n",
              "3       2017-08-18 16:42:10  33.893780 -118.047361  33.893250 -118.046380   \n",
              "4       2020-10-21 11:22:53  34.818550  -81.635628        NaN         NaN   \n",
              "...                     ...        ...         ...        ...         ...   \n",
              "499995  2018-06-13 05:23:10  34.069626 -117.797287        NaN         NaN   \n",
              "499996  2022-02-09 19:32:14  36.644354  -87.167641  36.644930  -87.167751   \n",
              "499997  2022-04-02 20:49:21  27.982637  -82.721641  27.982631  -82.721229   \n",
              "499998  2020-09-08 09:23:44  37.392471  -77.422897        NaN         NaN   \n",
              "499999  2023-01-23 19:33:13  38.641362 -121.451662  38.641702 -121.462403   \n",
              "\n",
              "        Distance(mi)  ... Roundabout Station   Stop Traffic_Calming  \\\n",
              "0              0.000  ...      False   False  False           False   \n",
              "1              0.000  ...      False   False  False           False   \n",
              "2              0.105  ...      False   False  False           False   \n",
              "3              0.067  ...      False   False  False           False   \n",
              "4              0.000  ...      False   False  False           False   \n",
              "...              ...  ...        ...     ...    ...             ...   \n",
              "499995         0.290  ...      False   False  False           False   \n",
              "499996         0.040  ...      False   False  False           False   \n",
              "499997         0.025  ...      False   False  False           False   \n",
              "499998         0.000  ...      False   False  False           False   \n",
              "499999         0.580  ...      False   False  False           False   \n",
              "\n",
              "       Traffic_Signal Turning_Loop Sunrise_Sunset Civil_Twilight  \\\n",
              "0               False        False            Day            Day   \n",
              "1               False        False            Day            Day   \n",
              "2               False        False          Night          Night   \n",
              "3               False        False            Day            Day   \n",
              "4               False        False            Day            Day   \n",
              "...               ...          ...            ...            ...   \n",
              "499995          False        False          Night          Night   \n",
              "499996          False        False            NaN            NaN   \n",
              "499997          False        False            Day            Day   \n",
              "499998          False        False            Day            Day   \n",
              "499999          False        False          Night          Night   \n",
              "\n",
              "       Nautical_Twilight Astronomical_Twilight  \n",
              "0                    Day                   Day  \n",
              "1                    Day                   Day  \n",
              "2                  Night                 Night  \n",
              "3                    Day                   Day  \n",
              "4                    Day                   Day  \n",
              "...                  ...                   ...  \n",
              "499995               Day                   Day  \n",
              "499996               NaN                   NaN  \n",
              "499997               Day                   Day  \n",
              "499998               Day                   Day  \n",
              "499999               Day                   Day  \n",
              "\n",
              "[500000 rows x 46 columns]"
            ]
          },
          "execution_count": 2,
          "metadata": {},
          "output_type": "execute_result"
        }
      ],
      "source": [
        "\n",
        "sample= pd.read_csv('us_accidents_sample_500k.csv')\n",
        "sample.head(10)\n",
        "sample\n"
      ]
    },
    {
      "cell_type": "markdown",
      "metadata": {
        "id": "zmLRl47LAC6C"
      },
      "source": [
        "### Q1: How clean is your data?  \n",
        "Do you have formatting concerns, null values, inconsistent data, etc... If so, explain what cleaning or reformating you have to do and how you plan to approach this cleaning steps.\n",
        "\n",
        "\n",
        "---\n",
        "Our dataset is massive so we are getting a random sample of it first so we can work with it. As everything crashes before we can look at it, we are first getting skipping the header then counting how many rows there are in the original csv then it reads with random sampling to get about 500,000 rows so that we get a csv that doesn't crash. We also plan on dropping some columns that are not needed that have a lot of missing data. For some missing data using mean or median to fill it in.\n",
        "For some others fill in with Unknown or mode. And dropping rows if important columns features are missing from the row.\n",
        "If we end up using any of the time featurs we may convert them to datetime types instead of leaving them as object types. And finally for weather conditions there seem to be a lot of text duplicates (eg. 'windy','Windy','rainy/windy') and we will unify the categories and may add a column if needed due to the volume of values the feature has.\n",
        "\n",
        "\n"
      ]
    },
    {
      "cell_type": "code",
      "execution_count": 3,
      "metadata": {
        "colab": {
          "base_uri": "https://localhost:8080/",
          "height": 1000
        },
        "id": "EsW4_ltZoZ1P",
        "outputId": "a902c0f5-c0bf-44ff-8b1c-2226683b18cb"
      },
      "outputs": [
        {
          "name": "stdout",
          "output_type": "stream",
          "text": [
            "<class 'pandas.core.frame.DataFrame'>\n",
            "RangeIndex: 500000 entries, 0 to 499999\n",
            "Data columns (total 46 columns):\n",
            " #   Column                 Non-Null Count   Dtype  \n",
            "---  ------                 --------------   -----  \n",
            " 0   ID                     500000 non-null  object \n",
            " 1   Source                 500000 non-null  object \n",
            " 2   Severity               500000 non-null  int64  \n",
            " 3   Start_Time             500000 non-null  object \n",
            " 4   End_Time               500000 non-null  object \n",
            " 5   Start_Lat              500000 non-null  float64\n",
            " 6   Start_Lng              500000 non-null  float64\n",
            " 7   End_Lat                279697 non-null  float64\n",
            " 8   End_Lng                279697 non-null  float64\n",
            " 9   Distance(mi)           500000 non-null  float64\n",
            " 10  Description            500000 non-null  object \n",
            " 11  Street                 499272 non-null  object \n",
            " 12  City                   499982 non-null  object \n",
            " 13  County                 500000 non-null  object \n",
            " 14  State                  500000 non-null  object \n",
            " 15  Zipcode                499882 non-null  object \n",
            " 16  Country                500000 non-null  object \n",
            " 17  Timezone               499497 non-null  object \n",
            " 18  Airport_Code           498520 non-null  object \n",
            " 19  Weather_Timestamp      492314 non-null  object \n",
            " 20  Temperature(F)         489459 non-null  float64\n",
            " 21  Wind_Chill(F)          370909 non-null  float64\n",
            " 22  Humidity(%)            488752 non-null  float64\n",
            " 23  Pressure(in)           491030 non-null  float64\n",
            " 24  Visibility(mi)         488658 non-null  float64\n",
            " 25  Wind_Direction         488866 non-null  object \n",
            " 26  Wind_Speed(mph)        463156 non-null  float64\n",
            " 27  Precipitation(in)      357260 non-null  float64\n",
            " 28  Weather_Condition      488836 non-null  object \n",
            " 29  Amenity                500000 non-null  bool   \n",
            " 30  Bump                   500000 non-null  bool   \n",
            " 31  Crossing               500000 non-null  bool   \n",
            " 32  Give_Way               500000 non-null  bool   \n",
            " 33  Junction               500000 non-null  bool   \n",
            " 34  No_Exit                500000 non-null  bool   \n",
            " 35  Railway                500000 non-null  bool   \n",
            " 36  Roundabout             500000 non-null  bool   \n",
            " 37  Station                500000 non-null  bool   \n",
            " 38  Stop                   500000 non-null  bool   \n",
            " 39  Traffic_Calming        500000 non-null  bool   \n",
            " 40  Traffic_Signal         500000 non-null  bool   \n",
            " 41  Turning_Loop           500000 non-null  bool   \n",
            " 42  Sunrise_Sunset         498416 non-null  object \n",
            " 43  Civil_Twilight         498416 non-null  object \n",
            " 44  Nautical_Twilight      498416 non-null  object \n",
            " 45  Astronomical_Twilight  498416 non-null  object \n",
            "dtypes: bool(13), float64(12), int64(1), object(20)\n",
            "memory usage: 132.1+ MB\n"
          ]
        },
        {
          "data": {
            "text/plain": [
              "ID                            0\n",
              "Source                        0\n",
              "Severity                      0\n",
              "Start_Time                    0\n",
              "End_Time                      0\n",
              "Start_Lat                     0\n",
              "Start_Lng                     0\n",
              "End_Lat                  220303\n",
              "End_Lng                  220303\n",
              "Distance(mi)                  0\n",
              "Description                   0\n",
              "Street                      728\n",
              "City                         18\n",
              "County                        0\n",
              "State                         0\n",
              "Zipcode                     118\n",
              "Country                       0\n",
              "Timezone                    503\n",
              "Airport_Code               1480\n",
              "Weather_Timestamp          7686\n",
              "Temperature(F)            10541\n",
              "Wind_Chill(F)            129091\n",
              "Humidity(%)               11248\n",
              "Pressure(in)               8970\n",
              "Visibility(mi)            11342\n",
              "Wind_Direction            11134\n",
              "Wind_Speed(mph)           36844\n",
              "Precipitation(in)        142740\n",
              "Weather_Condition         11164\n",
              "Amenity                       0\n",
              "Bump                          0\n",
              "Crossing                      0\n",
              "Give_Way                      0\n",
              "Junction                      0\n",
              "No_Exit                       0\n",
              "Railway                       0\n",
              "Roundabout                    0\n",
              "Station                       0\n",
              "Stop                          0\n",
              "Traffic_Calming               0\n",
              "Traffic_Signal                0\n",
              "Turning_Loop                  0\n",
              "Sunrise_Sunset             1584\n",
              "Civil_Twilight             1584\n",
              "Nautical_Twilight          1584\n",
              "Astronomical_Twilight      1584\n",
              "dtype: int64"
            ]
          },
          "execution_count": 3,
          "metadata": {},
          "output_type": "execute_result"
        }
      ],
      "source": [
        "#non null count are not the same\n",
        "sample.info()\n",
        "sample.isnull().sum()\n"
      ]
    },
    {
      "cell_type": "markdown",
      "metadata": {
        "id": "o67baSkq4odS"
      },
      "source": [
        "### Q2: Create a categorical plot\n",
        "Come up with a unique question that can be answer using a categorical plot from the sns module\n",
        "\n",
        "How does accident severity vary by weather conditions?"
      ]
    },
    {
      "cell_type": "code",
      "execution_count": 4,
      "metadata": {
        "colab": {
          "base_uri": "https://localhost:8080/",
          "height": 356
        },
        "id": "xQrjGTZb4rZE",
        "outputId": "7cc56b96-c06e-4687-f415-0b02d7f2323e"
      },
      "outputs": [
        {
          "data": {
            "image/png": "[encoded data removed]",
            "text/plain": [
              "<Figure size 1200x600 with 1 Axes>"
            ]
          },
          "metadata": {},
          "output_type": "display_data"
        }
      ],
      "source": [
        "# Your code here . . .\n",
        "import seaborn as sns\n",
        "import matplotlib.pyplot as plt\n",
        "top_n = 10\n",
        "top_conditions = sample['Weather_Condition'].value_counts().nlargest(top_n).index.tolist()\n",
        "subset = sample[sample['Weather_Condition'].isin(top_conditions)]\n",
        "\n",
        "sns.set(style=\"whitegrid\")\n",
        "plt.figure(figsize=(12,6))\n",
        "ax = sns.countplot(\n",
        "    data=subset,\n",
        "    y='Weather_Condition',\n",
        "    hue='Severity',\n",
        "    order=top_conditions,\n",
        "    palette='bright'\n",
        ")\n",
        "\n",
        "plt.title('Accident severity counts by top road surface / weather conditions')\n",
        "plt.xlabel('Number of accidents')\n",
        "plt.ylabel('Weather_Condition')\n",
        "plt.legend(title='Severity'),\n",
        "plt.tight_layout()\n",
        "plt.show()"
      ]
    },
    {
      "cell_type": "markdown",
      "metadata": {
        "id": "2gBQnPbS4odT"
      },
      "source": [
        "### Q3: Come up with a another unique question. This question must use map() or apply()\n",
        "\n",
        "####Question: Can we visualize how accident severity by time of day using the `Sunrise_Sunset`?(Day vs. Night accident)"
      ]
    },
    {
      "cell_type": "code",
      "execution_count": 5,
      "metadata": {
        "colab": {
          "base_uri": "https://localhost:8080/",
          "height": 516
        },
        "id": "iBBfjifl4tWD",
        "outputId": "6779abdd-8965-4684-f210-bd00e25c67a7"
      },
      "outputs": [
        {
          "data": {
            "image/png": "[encoded data removed]",
            "text/plain": [
              "<Figure size 640x480 with 1 Axes>"
            ]
          },
          "metadata": {},
          "output_type": "display_data"
        },
        {
          "name": "stdout",
          "output_type": "stream",
          "text": [
            "There are more accidents during the day than there are during the night. \n",
            "This means higher daytime traffic may lead to more frequent accidents\n"
          ]
        }
      ],
      "source": [
        "# Your code here . . .\n",
        "import seaborn as sns\n",
        "import matplotlib.pyplot as plt\n",
        "\n",
        "sample['Sunrise_Sunset'].value_counts() #yay!! already clean, no other vals except 'Day' and 'Night'\n",
        "\n",
        "sample['Severity'].value_counts() #clean too using map() here\n",
        "\n",
        "#Severity column discription from kaggle\n",
        "#Shows the severity of the accident, a number between 1 and 4, where 1 indicates the least impact on traffic\n",
        " #(i.e., short delay as a result of the accident) and 4 indicates a significant impact on traffic (i.e., long delay).\n",
        "\n",
        "Severity_Labels = {1:'Minor',\n",
        "                   2:'Moderate',\n",
        "                   3:'Major',\n",
        "                   4:'Sever'\n",
        "                   }\n",
        "\n",
        "sample['Severity_Labels'] = sample['Severity'].map(Severity_Labels)\n",
        "\n",
        "sns.countplot(data=sample,\n",
        "              x='Severity_Labels',\n",
        "              hue='Sunrise_Sunset',\n",
        "              order=['Minor','Moderate','Major','Sever'],\n",
        "              palette='bright'\n",
        "              )\n",
        "plt.title('Accident Severity by Time of Day')\n",
        "plt.show()\n",
        "print('There are more accidents during the day than there are during the night. \\nThis means higher daytime traffic may lead to more frequent accidents')\n",
        "\n"
      ]
    },
    {
      "cell_type": "markdown",
      "metadata": {
        "id": "2QajJFw5j_Oe"
      },
      "source": [
        "### Q4: Create an interactive plot (skip for version 1)\n",
        "Create an interactive plot using plotly. Your plot can be a previously asked question or a new question, however explain how this interaction strengthen what you want to communicate with your audience."
      ]
    },
    {
      "cell_type": "code",
      "execution_count": 6,
      "metadata": {
        "colab": {
          "base_uri": "https://localhost:8080/",
          "height": 542
        },
        "id": "7jPqoJJdj-M7",
        "outputId": "7c6b9c5c-7e5d-4ca3-d44f-c8d56984b140"
      },
      "outputs": [
        {
          "data": {
            "application/vnd.plotly.v1+json": {
              "config": {
                "plotlyServerURL": "https://plot.ly"
              },
              "data": [
                {
                  "hovertemplate": "Sunrise_Sunset=Day<br>Severity_Labels=%{x}<br>Count=%{y}<extra></extra>",
                  "legendgroup": "Day",
                  "marker": {
                    "color": "#636efa",
                    "pattern": {
                      "shape": ""
                    }
                  },
                  "name": "Day",
                  "orientation": "v",
                  "showlegend": true,
                  "textposition": "auto",
                  "type": "bar",
                  "x": [
                    "Major",
                    "Minor",
                    "Moderate",
                    "Sever"
                  ],
                  "xaxis": "x",
                  "y": {
                    "bdata": "vesAALQNAABSLAQAVx4AAA==",
                    "dtype": "i4"
                  },
                  "yaxis": "y"
                },
                {
                  "hovertemplate": "Sunrise_Sunset=Night<br>Severity_Labels=%{x}<br>Count=%{y}<extra></extra>",
                  "legendgroup": "Night",
                  "marker": {
                    "color": "#EF553B",
                    "pattern": {
                      "shape": ""
                    }
                  },
                  "name": "Night",
                  "orientation": "v",
                  "showlegend": true,
                  "textposition": "auto",
                  "type": "bar",
                  "x": [
                    "Major",
                    "Minor",
                    "Moderate",
                    "Sever"
                  ],
                  "xaxis": "x",
                  "y": {
                    "bdata": "0FwAAP8CAABn4gEAoBQAAA==",
                    "dtype": "i4"
                  },
                  "yaxis": "y"
                }
              ],
              "layout": {
                "barmode": "group",
                "legend": {
                  "title": {
                    "text": "Sunrise_Sunset"
                  },
                  "tracegroupgap": 0
                },
                "template": {
                  "data": {
                    "bar": [
                      {
                        "error_x": {
                          "color": "#2a3f5f"
                        },
                        "error_y": {
                          "color": "#2a3f5f"
                        },
                        "marker": {
                          "line": {
                            "color": "#E5ECF6",
                            "width": 0.5
                          },
                          "pattern": {
                            "fillmode": "overlay",
                            "size": 10,
                            "solidity": 0.2
                          }
                        },
                        "type": "bar"
                      }
                    ],
                    "barpolar": [
                      {
                        "marker": {
                          "line": {
                            "color": "#E5ECF6",
                            "width": 0.5
                          },
                          "pattern": {
                            "fillmode": "overlay",
                            "size": 10,
                            "solidity": 0.2
                          }
                        },
                        "type": "barpolar"
                      }
                    ],
                    "carpet": [
                      {
                        "aaxis": {
                          "endlinecolor": "#2a3f5f",
                          "gridcolor": "white",
                          "linecolor": "white",
                          "minorgridcolor": "white",
                          "startlinecolor": "#2a3f5f"
                        },
                        "baxis": {
                          "endlinecolor": "#2a3f5f",
                          "gridcolor": "white",
                          "linecolor": "white",
                          "minorgridcolor": "white",
                          "startlinecolor": "#2a3f5f"
                        },
                        "type": "carpet"
                      }
                    ],
                    "choropleth": [
                      {
                        "colorbar": {
                          "outlinewidth": 0,
                          "ticks": ""
                        },
                        "type": "choropleth"
                      }
                    ],
                    "contour": [
                      {
                        "colorbar": {
                          "outlinewidth": 0,
                          "ticks": ""
                        },
                        "colorscale": [
                          [
                            0,
                            "#0d0887"
                          ],
                          [
                            0.1111111111111111,
                            "#46039f"
                          ],
                          [
                            0.2222222222222222,
                            "#7201a8"
                          ],
                          [
                            0.3333333333333333,
                            "#9c179e"
                          ],
                          [
                            0.4444444444444444,
                            "#bd3786"
                          ],
                          [
                            0.5555555555555556,
                            "#d8576b"
                          ],
                          [
                            0.6666666666666666,
                            "#ed7953"
                          ],
                          [
                            0.7777777777777778,
                            "#fb9f3a"
                          ],
                          [
                            0.8888888888888888,
                            "#fdca26"
                          ],
                          [
                            1,
                            "#f0f921"
                          ]
                        ],
                        "type": "contour"
                      }
                    ],
                    "contourcarpet": [
                      {
                        "colorbar": {
                          "outlinewidth": 0,
                          "ticks": ""
                        },
                        "type": "contourcarpet"
                      }
                    ],
                    "heatmap": [
                      {
                        "colorbar": {
                          "outlinewidth": 0,
                          "ticks": ""
                        },
                        "colorscale": [
                          [
                            0,
                            "#0d0887"
                          ],
                          [
                            0.1111111111111111,
                            "#46039f"
                          ],
                          [
                            0.2222222222222222,
                            "#7201a8"
                          ],
                          [
                            0.3333333333333333,
                            "#9c179e"
                          ],
                          [
                            0.4444444444444444,
                            "#bd3786"
                          ],
                          [
                            0.5555555555555556,
                            "#d8576b"
                          ],
                          [
                            0.6666666666666666,
                            "#ed7953"
                          ],
                          [
                            0.7777777777777778,
                            "#fb9f3a"
                          ],
                          [
                            0.8888888888888888,
                            "#fdca26"
                          ],
                          [
                            1,
                            "#f0f921"
                          ]
                        ],
                        "type": "heatmap"
                      }
                    ],
                    "histogram": [
                      {
                        "marker": {
                          "pattern": {
                            "fillmode": "overlay",
                            "size": 10,
                            "solidity": 0.2
                          }
                        },
                        "type": "histogram"
                      }
                    ],
                    "histogram2d": [
                      {
                        "colorbar": {
                          "outlinewidth": 0,
                          "ticks": ""
                        },
                        "colorscale": [
                          [
                            0,
                            "#0d0887"
                          ],
                          [
                            0.1111111111111111,
                            "#46039f"
                          ],
                          [
                            0.2222222222222222,
                            "#7201a8"
                          ],
                          [
                            0.3333333333333333,
                            "#9c179e"
                          ],
                          [
                            0.4444444444444444,
                            "#bd3786"
                          ],
                          [
                            0.5555555555555556,
                            "#d8576b"
                          ],
                          [
                            0.6666666666666666,
                            "#ed7953"
                          ],
                          [
                            0.7777777777777778,
                            "#fb9f3a"
                          ],
                          [
                            0.8888888888888888,
                            "#fdca26"
                          ],
                          [
                            1,
                            "#f0f921"
                          ]
                        ],
                        "type": "histogram2d"
                      }
                    ],
                    "histogram2dcontour": [
                      {
                        "colorbar": {
                          "outlinewidth": 0,
                          "ticks": ""
                        },
                        "colorscale": [
                          [
                            0,
                            "#0d0887"
                          ],
                          [
                            0.1111111111111111,
                            "#46039f"
                          ],
                          [
                            0.2222222222222222,
                            "#7201a8"
                          ],
                          [
                            0.3333333333333333,
                            "#9c179e"
                          ],
                          [
                            0.4444444444444444,
                            "#bd3786"
                          ],
                          [
                            0.5555555555555556,
                            "#d8576b"
                          ],
                          [
                            0.6666666666666666,
                            "#ed7953"
                          ],
                          [
                            0.7777777777777778,
                            "#fb9f3a"
                          ],
                          [
                            0.8888888888888888,
                            "#fdca26"
                          ],
                          [
                            1,
                            "#f0f921"
                          ]
                        ],
                        "type": "histogram2dcontour"
                      }
                    ],
                    "mesh3d": [
                      {
                        "colorbar": {
                          "outlinewidth": 0,
                          "ticks": ""
                        },
                        "type": "mesh3d"
                      }
                    ],
                    "parcoords": [
                      {
                        "line": {
                          "colorbar": {
                            "outlinewidth": 0,
                            "ticks": ""
                          }
                        },
                        "type": "parcoords"
                      }
                    ],
                    "pie": [
                      {
                        "automargin": true,
                        "type": "pie"
                      }
                    ],
                    "scatter": [
                      {
                        "fillpattern": {
                          "fillmode": "overlay",
                          "size": 10,
                          "solidity": 0.2
                        },
                        "type": "scatter"
                      }
                    ],
                    "scatter3d": [
                      {
                        "line": {
                          "colorbar": {
                            "outlinewidth": 0,
                            "ticks": ""
                          }
                        },
                        "marker": {
                          "colorbar": {
                            "outlinewidth": 0,
                            "ticks": ""
                          }
                        },
                        "type": "scatter3d"
                      }
                    ],
                    "scattercarpet": [
                      {
                        "marker": {
                          "colorbar": {
                            "outlinewidth": 0,
                            "ticks": ""
                          }
                        },
                        "type": "scattercarpet"
                      }
                    ],
                    "scattergeo": [
                      {
                        "marker": {
                          "colorbar": {
                            "outlinewidth": 0,
                            "ticks": ""
                          }
                        },
                        "type": "scattergeo"
                      }
                    ],
                    "scattergl": [
                      {
                        "marker": {
                          "colorbar": {
                            "outlinewidth": 0,
                            "ticks": ""
                          }
                        },
                        "type": "scattergl"
                      }
                    ],
                    "scattermap": [
                      {
                        "marker": {
                          "colorbar": {
                            "outlinewidth": 0,
                            "ticks": ""
                          }
                        },
                        "type": "scattermap"
                      }
                    ],
                    "scattermapbox": [
                      {
                        "marker": {
                          "colorbar": {
                            "outlinewidth": 0,
                            "ticks": ""
                          }
                        },
                        "type": "scattermapbox"
                      }
                    ],
                    "scatterpolar": [
                      {
                        "marker": {
                          "colorbar": {
                            "outlinewidth": 0,
                            "ticks": ""
                          }
                        },
                        "type": "scatterpolar"
                      }
                    ],
                    "scatterpolargl": [
                      {
                        "marker": {
                          "colorbar": {
                            "outlinewidth": 0,
                            "ticks": ""
                          }
                        },
                        "type": "scatterpolargl"
                      }
                    ],
                    "scatterternary": [
                      {
                        "marker": {
                          "colorbar": {
                            "outlinewidth": 0,
                            "ticks": ""
                          }
                        },
                        "type": "scatterternary"
                      }
                    ],
                    "surface": [
                      {
                        "colorbar": {
                          "outlinewidth": 0,
                          "ticks": ""
                        },
                        "colorscale": [
                          [
                            0,
                            "#0d0887"
                          ],
                          [
                            0.1111111111111111,
                            "#46039f"
                          ],
                          [
                            0.2222222222222222,
                            "#7201a8"
                          ],
                          [
                            0.3333333333333333,
                            "#9c179e"
                          ],
                          [
                            0.4444444444444444,
                            "#bd3786"
                          ],
                          [
                            0.5555555555555556,
                            "#d8576b"
                          ],
                          [
                            0.6666666666666666,
                            "#ed7953"
                          ],
                          [
                            0.7777777777777778,
                            "#fb9f3a"
                          ],
                          [
                            0.8888888888888888,
                            "#fdca26"
                          ],
                          [
                            1,
                            "#f0f921"
                          ]
                        ],
                        "type": "surface"
                      }
                    ],
                    "table": [
                      {
                        "cells": {
                          "fill": {
                            "color": "#EBF0F8"
                          },
                          "line": {
                            "color": "white"
                          }
                        },
                        "header": {
                          "fill": {
                            "color": "#C8D4E3"
                          },
                          "line": {
                            "color": "white"
                          }
                        },
                        "type": "table"
                      }
                    ]
                  },
                  "layout": {
                    "annotationdefaults": {
                      "arrowcolor": "#2a3f5f",
                      "arrowhead": 0,
                      "arrowwidth": 1
                    },
                    "autotypenumbers": "strict",
                    "coloraxis": {
                      "colorbar": {
                        "outlinewidth": 0,
                        "ticks": ""
                      }
                    },
                    "colorscale": {
                      "diverging": [
                        [
                          0,
                          "#8e0152"
                        ],
                        [
                          0.1,
                          "#c51b7d"
                        ],
                        [
                          0.2,
                          "#de77ae"
                        ],
                        [
                          0.3,
                          "#f1b6da"
                        ],
                        [
                          0.4,
                          "#fde0ef"
                        ],
                        [
                          0.5,
                          "#f7f7f7"
                        ],
                        [
                          0.6,
                          "#e6f5d0"
                        ],
                        [
                          0.7,
                          "#b8e186"
                        ],
                        [
                          0.8,
                          "#7fbc41"
                        ],
                        [
                          0.9,
                          "#4d9221"
                        ],
                        [
                          1,
                          "#276419"
                        ]
                      ],
                      "sequential": [
                        [
                          0,
                          "#0d0887"
                        ],
                        [
                          0.1111111111111111,
                          "#46039f"
                        ],
                        [
                          0.2222222222222222,
                          "#7201a8"
                        ],
                        [
                          0.3333333333333333,
                          "#9c179e"
                        ],
                        [
                          0.4444444444444444,
                          "#bd3786"
                        ],
                        [
                          0.5555555555555556,
                          "#d8576b"
                        ],
                        [
                          0.6666666666666666,
                          "#ed7953"
                        ],
                        [
                          0.7777777777777778,
                          "#fb9f3a"
                        ],
                        [
                          0.8888888888888888,
                          "#fdca26"
                        ],
                        [
                          1,
                          "#f0f921"
                        ]
                      ],
                      "sequentialminus": [
                        [
                          0,
                          "#0d0887"
                        ],
                        [
                          0.1111111111111111,
                          "#46039f"
                        ],
                        [
                          0.2222222222222222,
                          "#7201a8"
                        ],
                        [
                          0.3333333333333333,
                          "#9c179e"
                        ],
                        [
                          0.4444444444444444,
                          "#bd3786"
                        ],
                        [
                          0.5555555555555556,
                          "#d8576b"
                        ],
                        [
                          0.6666666666666666,
                          "#ed7953"
                        ],
                        [
                          0.7777777777777778,
                          "#fb9f3a"
                        ],
                        [
                          0.8888888888888888,
                          "#fdca26"
                        ],
                        [
                          1,
                          "#f0f921"
                        ]
                      ]
                    },
                    "colorway": [
                      "#636efa",
                      "#EF553B",
                      "#00cc96",
                      "#ab63fa",
                      "#FFA15A",
                      "#19d3f3",
                      "#FF6692",
                      "#B6E880",
                      "#FF97FF",
                      "#FECB52"
                    ],
                    "font": {
                      "color": "#2a3f5f"
                    },
                    "geo": {
                      "bgcolor": "white",
                      "lakecolor": "white",
                      "landcolor": "#E5ECF6",
                      "showlakes": true,
                      "showland": true,
                      "subunitcolor": "white"
                    },
                    "hoverlabel": {
                      "align": "left"
                    },
                    "hovermode": "closest",
                    "mapbox": {
                      "style": "light"
                    },
                    "paper_bgcolor": "white",
                    "plot_bgcolor": "#E5ECF6",
                    "polar": {
                      "angularaxis": {
                        "gridcolor": "white",
                        "linecolor": "white",
                        "ticks": ""
                      },
                      "bgcolor": "#E5ECF6",
                      "radialaxis": {
                        "gridcolor": "white",
                        "linecolor": "white",
                        "ticks": ""
                      }
                    },
                    "scene": {
                      "xaxis": {
                        "backgroundcolor": "#E5ECF6",
                        "gridcolor": "white",
                        "gridwidth": 2,
                        "linecolor": "white",
                        "showbackground": true,
                        "ticks": "",
                        "zerolinecolor": "white"
                      },
                      "yaxis": {
                        "backgroundcolor": "#E5ECF6",
                        "gridcolor": "white",
                        "gridwidth": 2,
                        "linecolor": "white",
                        "showbackground": true,
                        "ticks": "",
                        "zerolinecolor": "white"
                      },
                      "zaxis": {
                        "backgroundcolor": "#E5ECF6",
                        "gridcolor": "white",
                        "gridwidth": 2,
                        "linecolor": "white",
                        "showbackground": true,
                        "ticks": "",
                        "zerolinecolor": "white"
                      }
                    },
                    "shapedefaults": {
                      "line": {
                        "color": "#2a3f5f"
                      }
                    },
                    "ternary": {
                      "aaxis": {
                        "gridcolor": "white",
                        "linecolor": "white",
                        "ticks": ""
                      },
                      "baxis": {
                        "gridcolor": "white",
                        "linecolor": "white",
                        "ticks": ""
                      },
                      "bgcolor": "#E5ECF6",
                      "caxis": {
                        "gridcolor": "white",
                        "linecolor": "white",
                        "ticks": ""
                      }
                    },
                    "title": {
                      "x": 0.05
                    },
                    "xaxis": {
                      "automargin": true,
                      "gridcolor": "white",
                      "linecolor": "white",
                      "ticks": "",
                      "title": {
                        "standoff": 15
                      },
                      "zerolinecolor": "white",
                      "zerolinewidth": 2
                    },
                    "yaxis": {
                      "automargin": true,
                      "gridcolor": "white",
                      "linecolor": "white",
                      "ticks": "",
                      "title": {
                        "standoff": 15
                      },
                      "zerolinecolor": "white",
                      "zerolinewidth": 2
                    }
                  }
                },
                "title": {
                  "text": "Accident Severity by Time of Day"
                },
                "xaxis": {
                  "anchor": "y",
                  "categoryarray": [
                    "Minor",
                    "Moderate",
                    "Major",
                    "Sever"
                  ],
                  "categoryorder": "array",
                  "domain": [
                    0,
                    1
                  ],
                  "title": {
                    "text": "Severity"
                  }
                },
                "yaxis": {
                  "anchor": "x",
                  "domain": [
                    0,
                    1
                  ],
                  "title": {
                    "text": "Number of Accidents"
                  }
                }
              }
            }
          },
          "metadata": {},
          "output_type": "display_data"
        }
      ],
      "source": [
        "# Your code here . . . Have not learned interactive plots yet\n",
        "import plotly.express as px\n",
        "\n",
        "\n",
        "\n",
        "\n",
        "Severity_Labels = {1:'Minor',\n",
        "                   2:'Moderate',\n",
        "                   3:'Major',\n",
        "                   4:'Sever'\n",
        "                  }\n",
        "\n",
        "sample['Severity_Labels'] = sample['Severity'].map(Severity_Labels)\n",
        "\n",
        "#count accidents for day and night for all severity levels\n",
        "df_count = sample.groupby(['Sunrise_Sunset', 'Severity_Labels']).size().reset_index(name='Count')\n",
        "\n",
        "fig = px.bar(df_count,\n",
        "             x='Severity_Labels',\n",
        "             y='Count',\n",
        "             color='Sunrise_Sunset',\n",
        "             category_orders={'Severity_Labels': ['Minor', 'Moderate', 'Major', 'Sever']},\n",
        "             title='Accident Severity by Time of Day'\n",
        "            )\n",
        "fig.update_layout(xaxis_title='Severity', yaxis_title='Number of Accidents',barmode='group')\n",
        "fig.show()"
      ]
    },
    {
      "cell_type": "markdown",
      "metadata": {
        "id": "4tSIFLPRShMX"
      },
      "source": [
        "The interactive plot strengthens communication with the audience by allowing viewers to explor accident patterns by hovering, and comparing the categories directly. This interactive plot makes accedent severity between day and night more clear and engaging by being able to get the count."
      ]
    },
    {
      "cell_type": "markdown",
      "metadata": {
        "id": "INxqWvFUCapx"
      },
      "source": [
        "## Q5: Additional datasets and data processing\n",
        "For the questions below you do not need to do the plotting if you have not found another complementary dataset. However, write the psuedocode of how you could go about answering the questions and sketches of what your visualization might be. Answer the following:\n",
        "\n",
        "What additional datasets would you need to find or create to help strengthen your data?\n",
        "How would you combine the dataset?\n",
        "Do you need to reshape your data and how could you go about it?"
      ]
    },
    {
      "cell_type": "markdown",
      "metadata": {
        "id": "BMNhxr8Ehatq"
      },
      "source": [
        "# Useful datasets:  \n",
        "1. Local weather station historical hourly data\n",
        "    * Weather at the time of crash could help explain severity   \n",
        "2. Traffic volume\n",
        "    * Congestion and traffic density correlate with accident frequency/severity   \n",
        "3. Road network / speed limits / lane counts / road classification (state DOT shapefiles)\n",
        "    * Road type and speed limit could affect severity   \n",
        "4. Census tract demographics or population density\n",
        "    * Ubran/rural differences   \n",
        "5. Holidays/events calendar\n",
        "    * Helps distinguish holiday related traffic patterns   \n",
        "6. Police report database\n",
        "    * Validate severity labels   \n",
        "\n",
        "# How to combine:  \n",
        "* Join on time + location\n",
        "    * Convert `Start_Time` to either UTC or local timezone. Use a rounded lat/long to match grid\n",
        "    * For weather: join by nearest weather station and the closest hourly observation to `Start_Time`   \n",
        "* Reshape / Aggregation\n",
        "  * Resample hourly/day to merge with hourly weather/traffic.\n",
        "  * Aggregate to county/day for macro analysis (e.g., accidents per county per day vs rainfall).\n"
      ]
    },
    {
      "cell_type": "code",
      "execution_count": 7,
      "metadata": {
        "id": "Q_HBFKFcCbDp"
      },
      "outputs": [],
      "source": [
        "# PSEUDOCODE\n",
        "# 1. load accidents -> df_acc\n",
        "# 2. load weather hourly -> df_weather\n",
        "# 3. convert Start_Time to timezone-aware datetime\n",
        "# 4. for each accident: find nearest weather station (or cluster) within 50km\n",
        "# 5. join the weather obs at the nearest hour\n",
        "# 6. create features: precip_flag, temp_below_zero, heavy_rain, visibility_low\n",
        "# 7. now analyze severity ~ weather features (group, logistic regression, or plots)\n"
      ]
    }
  ],
  "metadata": {
    "colab": {
      "provenance": []
    },
    "kernelspec": {
      "display_name": "Python 3",
      "language": "python",
      "name": "python3"
    },
    "language_info": {
      "codemirror_mode": {
        "name": "ipython",
        "version": 3
      },
      "file_extension": ".py",
      "mimetype": "text/x-python",
      "name": "python",
      "nbconvert_exporter": "python",
      "pygments_lexer": "ipython3",
      "version": "3.13.7"
    }
  },
  "nbformat": 4,
  "nbformat_minor": 0
}
